{
 "cells": [
  {
   "cell_type": "markdown",
   "metadata": {
    "slideshow": {
     "slide_type": "slide"
    }
   },
   "source": [
    "# Bright Fireball over Poland"
   ]
  },
  {
   "cell_type": "markdown",
   "metadata": {
    "slideshow": {
     "slide_type": "subslide"
    }
   },
   "source": [
    "> The International Meteor Organization received over 69 reports so far about a fireball event over the Eastern Poland on Saturday, October 31st 2015 around 18:05UT. Observers from as far the Netherlands and Austria reported seeing a bright light in the sky. Below is a heat map of the witness reports -- <http://imo.net/node/1645>"
   ]
  },
  {
   "cell_type": "markdown",
   "metadata": {
    "slideshow": {
     "slide_type": "subslide"
    }
   },
   "source": [
    "![IMO Event#2824-2015 - Heatmap](http://www.amsmeteors.org/wp-content/uploads/2015/11/imo-heatmap.jpg)"
   ]
  },
  {
   "cell_type": "markdown",
   "metadata": {
    "slideshow": {
     "slide_type": "notes"
    }
   },
   "source": [
    "The preliminary estimated trajectory plotted from the witness reports shows the meteor was traveling from the SE-NW and ended its (visible) flight few miles east of the German Border."
   ]
  },
  {
   "cell_type": "markdown",
   "metadata": {
    "slideshow": {
     "slide_type": "subslide"
    }
   },
   "source": [
    "![IMOEvent#2824-2015](http://www.amsmeteors.org/wp-content/uploads/2015/11/imo-traj.jpg)"
   ]
  },
  {
   "cell_type": "code",
   "execution_count": 1,
   "metadata": {
    "collapsed": false,
    "slideshow": {
     "slide_type": "subslide"
    }
   },
   "outputs": [
    {
     "data": {
      "text/html": [
       "\n",
       "        <iframe\n",
       "            width=\"960\"\n",
       "            height=\"300\"\n",
       "            src=\"https://www.youtube.com/embed/7R8ycDOXrs4\"\n",
       "            frameborder=\"0\"\n",
       "            allowfullscreen\n",
       "        ></iframe>\n",
       "        "
      ],
      "text/plain": [
       "<IPython.lib.display.YouTubeVideo at 0x7f74ed9254a8>"
      ]
     },
     "execution_count": 1,
     "metadata": {},
     "output_type": "execute_result"
    }
   ],
   "source": [
    "from IPython.display import YouTubeVideo\n",
    "YouTubeVideo(\"7R8ycDOXrs4\", width=\"960\")"
   ]
  },
  {
   "cell_type": "markdown",
   "metadata": {
    "slideshow": {
     "slide_type": "slide"
    }
   },
   "source": [
    "## Úkoly pro studenty\n",
    "\n",
    "* Získejte data o pozorování tohoto úkazu z databáze IMO.<br/>\n",
    "  (pokud možno ve formátu strojově čitelné tabulky ;-)\n",
    "\n",
    "* Statisticky popiště kvantitavně i kvalitativně získaná data.\n",
    "\n",
    "* Pomocí mnohabodové interpolace zrekonstrujte viditelnou dráhu tělesa na obloze.<br/>\n",
    "  A zobrazte její projekci na povrch Země i mezi hvězdy.\n",
    "\n",
    "* Odhadněte počáteční rychlost tělesa při vstupu do Zemské atmosféry.\n",
    "\n",
    "* Tipněte si hmotnost tělesa při vstupu do Zemské atmosféry.\n",
    "\n",
    "* Spočtěte Energii při dopadu na Zemský povrch při zanedbání Zemské atmosféry.<br/>\n",
    "  Uvažujte přitom počátek potenciální energie soustavy Země-těleso v nekonečnu."
   ]
  }
 ],
 "metadata": {
  "celltoolbar": "Slideshow",
  "kernelspec": {
   "display_name": "Python 3",
   "language": "python",
   "name": "python3"
  },
  "language_info": {
   "codemirror_mode": {
    "name": "ipython",
    "version": 3
   },
   "file_extension": ".py",
   "mimetype": "text/x-python",
   "name": "python",
   "nbconvert_exporter": "python",
   "pygments_lexer": "ipython3",
   "version": "3.5.1"
  }
 },
 "nbformat": 4,
 "nbformat_minor": 0
}
