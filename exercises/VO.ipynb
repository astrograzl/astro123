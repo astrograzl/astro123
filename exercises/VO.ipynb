{
 "cells": [
  {
   "cell_type": "code",
   "execution_count": 19,
   "metadata": {
    "collapsed": true,
    "slideshow": {
     "slide_type": "skip"
    }
   },
   "outputs": [],
   "source": [
    "%matplotlib inline\n",
    "from IPython.display import IFrame"
   ]
  },
  {
   "cell_type": "markdown",
   "metadata": {
    "slideshow": {
     "slide_type": "slide"
    }
   },
   "source": [
    "# Virtuální observatoř"
   ]
  },
  {
   "cell_type": "code",
   "execution_count": 23,
   "metadata": {
    "collapsed": false,
    "slideshow": {
     "slide_type": "subslide"
    }
   },
   "outputs": [
    {
     "data": {
      "text/html": [
       "\n",
       "        <iframe\n",
       "            width=\"980\"\n",
       "            height=\"420\"\n",
       "            src=\"http://vizier.u-strasbg.fr/viz-bin/VizieR-3?-source=I/239/hip_main\"\n",
       "            frameborder=\"0\"\n",
       "            allowfullscreen\n",
       "        ></iframe>\n",
       "        "
      ],
      "text/plain": [
       "<IPython.lib.display.IFrame at 0x7f89417c8a20>"
      ]
     },
     "execution_count": 23,
     "metadata": {},
     "output_type": "execute_result"
    }
   ],
   "source": [
    "IFrame(\"http://vizier.u-strasbg.fr/viz-bin/VizieR-3?-source=I/239/hip_main\", width=980, height=420)"
   ]
  },
  {
   "cell_type": "markdown",
   "metadata": {
    "slideshow": {
     "slide_type": "slide"
    }
   },
   "source": [
    "> **Hertzsprungův-Russellův diagram** vyjadřuje závislost povrchové teploty (spektrální typ) hvězd na jejích svítivosti (zářivý výkon) nebo absolutní magnitudě v různých fázích vývoje. Závislost absolutní hvězdné velikosti na spektrární třídě hvězd objevil v roce 1909 E. Hertzsprung, jehož práci později zdokonalil H. N. Russell. -- [Wiki](https://cs.wikipedia.org/wiki/Hertzsprung%C5%AFv-Russell%C5%AFv_diagram)"
   ]
  },
  {
   "cell_type": "markdown",
   "metadata": {
    "slideshow": {
     "slide_type": "slide"
    }
   },
   "source": [
    "## Úkoly pro studenty\n",
    "\n",
    "* Získejte potřebné informace z katalogu hvězd pozorovaných družicí HIPPARCOS nezbytně nutných pro sestrojení H-R diagramu.\n",
    "* Vykreslete polohy všech hvězd ve vhodně zvolené projekci nebeské sféry."
   ]
  },
  {
   "cell_type": "code",
   "execution_count": 1,
   "metadata": {
    "collapsed": false,
    "slideshow": {
     "slide_type": "slide"
    }
   },
   "outputs": [],
   "source": [
    "from astropy.io.votable import parse"
   ]
  },
  {
   "cell_type": "markdown",
   "metadata": {
    "slideshow": {
     "slide_type": "slide"
    }
   },
   "source": [
    "### Reference\n",
    "\n",
    "<!-- http://nbviewer.ipython.org/github/queru49/balbuceos_astropythonicos/blob/master/Notebooks_EN/B9_H-R_EN.ipynb -->\n",
    "* [Construction of Hertzsprung-Russell diagrams in Python](http://balbuceosastropy.blogspot.cz/2014/03/construction-of-hertzsprung-russell.html)"
   ]
  }
 ],
 "metadata": {
  "celltoolbar": "Slideshow",
  "kernelspec": {
   "display_name": "Python 3",
   "language": "python",
   "name": "python3"
  },
  "language_info": {
   "codemirror_mode": {
    "name": "ipython",
    "version": 3
   },
   "file_extension": ".py",
   "mimetype": "text/x-python",
   "name": "python",
   "nbconvert_exporter": "python",
   "pygments_lexer": "ipython3",
   "version": "3.5.1"
  }
 },
 "nbformat": 4,
 "nbformat_minor": 0
}
