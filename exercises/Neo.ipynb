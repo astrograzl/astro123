{
 "cells": [
  {
   "cell_type": "code",
   "execution_count": 11,
   "metadata": {
    "collapsed": true
   },
   "outputs": [],
   "source": [
    "# tato úloha bude interaktivní, zapneme si proto podporu vykreslování pomocí následujícího *magického* příkazu\n",
    "%matplotlib inline"
   ]
  },
  {
   "cell_type": "markdown",
   "metadata": {},
   "source": [
    "# Near Earth Object"
   ]
  },
  {
   "cell_type": "markdown",
   "metadata": {},
   "source": [
    "Nejen v bezprostředním Zemském okolí se pohybuje nespočet malých těles pocházejících z bouřlivého období formování Sluneční soustavy. Pojdmě se nyní společně podívat, co všechno o nich dokážeme zjistit z jednoho souboru dostupného na Internetu. Ten o nich před více než dvěstě lety začali psát ještě skuteční lidé -- sám jsem vám jednoho osobně znal, ale časy jsou zlé i pro Kamila, a tak dnes i jejich práci převzali již roboti. Nezbývá než vzdát čest mladým odvážným můžům s výkonnými teleskopy a chabým připojením k internetu. Že jen pomocí pár kouzelných příkazů posílaných přes terminál k vykonání na vzdáleném mainframu, zvládají již celá desetiletí spravovat tento dokument:\n",
    "\n",
    "![Mousepad](../screenshots/mousepad_2015-05-17_17-01-23.png)"
   ]
  },
  {
   "cell_type": "markdown",
   "metadata": {},
   "source": [
    "Začněme tím, že si tento soubor stáhneme na vlastní počítač ze známe adresy..."
   ]
  },
  {
   "cell_type": "code",
   "execution_count": 2,
   "metadata": {
    "collapsed": false
   },
   "outputs": [
    {
     "name": "stdout",
     "output_type": "stream",
     "text": [
      "--2015-05-29 22:26:14--  http://www.minorplanetcenter.net/iau/MPCORB/MPCORB.DAT\n",
      "Překládám www.minorplanetcenter.net (www.minorplanetcenter.net)… 131.142.195.59\n",
      "Navazuje se spojení s www.minorplanetcenter.net (www.minorplanetcenter.net)|131.142.195.59|:80… spojeno.\n",
      "HTTP požadavek odeslán, program čeká na odpověď… 200 OK\n",
      "Délka: 139627090 (133M) [text/plain]\n",
      "Ukládám do: „MPCORB.DAT“\n",
      "\n",
      "MPCORB.DAT          100%[=====================>] 133,16M   120KB/s   za 23m 28s\n",
      "\n",
      "2015-05-29 22:49:42 (96,8 KB/s) – „MPCORB.DAT“ uloženo [139627090/139627090]\n",
      "\n"
     ]
    }
   ],
   "source": [
    "!wget http://www.minorplanetcenter.net/iau/MPCORB/MPCORB.DAT"
   ]
  },
  {
   "cell_type": "markdown",
   "metadata": {},
   "source": [
    "Zatím co s podepřenou hlavou hypnoticky sleduji progressbar a čekám na dokončení stahování, upoutá mojí pozornost délka stahovaného souboru. Více než **100 miliónu bitů** informace uložených v prostém textovém souboru. Informace o dráhových elementech všech známých planetek v naší Sluneční soustavě. To jsou přesně ty informace, které potřebuji znát, pokud bych chtěl kdykoliv jakoukoliv planetku pozorovat vlastním dalekohledem.\n",
    "\n",
    "Než se však pokusím takto velký soubor otevřít ve svém oblíbeném textovém editoru, napřed si z něj zobrazím několik prvních řádek. Proč zrovna 42? Prostě pro to. Stejně jako Dougles Adams, když psal *Stopařova průvodce Galaxií*, i já teď hledím do okna terminálu, který má na výšku přesně 42 řádků a to je taky přesně tolik řádků, kolik si stačí z tohoto souboru přečíst, aby jste pochopili jeho struktůru."
   ]
  },
  {
   "cell_type": "code",
   "execution_count": 1,
   "metadata": {
    "collapsed": false
   },
   "outputs": [
    {
     "name": "stdout",
     "output_type": "stream",
     "text": [
      "MINOR PLANET CENTER ORBIT DATABASE (MPCORB)\r\n",
      "\r\n",
      "This file contains published orbital elements for all numbered and unnumbered\r\n",
      "multi-opposition minor planets for which it is possible to make reasonable\r\n",
      "predictions.  It also includes published elements for recent one-opposition\r\n",
      "minor planets and is intended to be complete through the last issued Daily\r\n",
      "Orbit Update MPEC.  As such it is intended to be of interest primarily\r\n",
      "to astrometric observers.\r\n",
      "\r\n",
      "   Software programs may include this datafile amongst their datasets, as\r\n",
      "   long as this header is included (it is acceptable if it is contained\r\n",
      "   in a file separate from the actual data) and that proper attribution\r\n",
      "   to the Minor Planet Center is given.  Credit to the individual orbit\r\n",
      "   computers is implicit by the inclusion of a reference and the name of\r\n",
      "   the orbit computer on each orbit record.  Information on how to obtain\r\n",
      "   updated copies of the datafile must also be included.\r\n",
      "\r\n",
      "   The work of the individual astrometric observers, without whom none of\r\n",
      "   the work of the Minor Planet Center would be possible, is gratefully\r\n",
      "   acknowledged.  Credit to the individual observers is implicit by the\r\n",
      "   inclusion of the reference to the publication of their observations in\r\n",
      "   all data sets distributed by the Minor Planet Center.\r\n",
      "\r\n",
      "New versions of this file, updated on a daily basis, will be available at:\r\n",
      "\r\n",
      "          http://www.minorplanetcenter.org/iau/MPCORB/MPCORB.DAT\r\n",
      "\r\n",
      "The elements contained within MPCORB are divided into three sections,\r\n",
      "separated by blank lines.  The first section contains the numbered objects,\r\n",
      "the second section contains the unnumbered objects with perturbed orbit\r\n",
      "solutions and the third contains the recent 1-opposition objects with\r\n",
      "unperturbed orbit solutions.  Each object's elements are stored on a single\r\n",
      "line, the format of which is described at:\r\n",
      "\r\n",
      "          http://www.minorplanetcenter.org/iau/info/MPOrbitFormat.html\r\n",
      "\r\n",
      "A brief header is given below:\r\n",
      "\r\n",
      "Des'n     H     G   Epoch     M        Peri.      Node       Incl.       e            n           a        Reference #Obs #Opp    Arc    rms  Perts   Computer\r\n",
      "\r\n",
      "----------------------------------------------------------------------------------------------------------------------------------------------------------------\r\n",
      "00001    3.34  0.12 K156R 138.66222   72.65410   80.32720   10.59230  0.0757825  0.21402349   2.7679724  0 MPO332812  6543 108 1802-2015 0.60 M-v 30h MPCLINUX   0000      (1) Ceres              20150321\r\n"
     ]
    }
   ],
   "source": [
    "!head -n 42 MPCORB.DAT"
   ]
  },
  {
   "cell_type": "markdown",
   "metadata": {},
   "source": [
    "A už to vidím! Na posledním řádku, číslo 2,76..., to je přece délka velké poloosy prvně objevené trpasličí planety [Ceres](http://cs.wikipedia.org/wiki/Ceres_%28trpasli%C4%8D%C3%AD_planeta%29) vyjádřená v Astronomických jednotkách. Přesnou hodnotu Astronomické jednotky si ale nepamatuji, nicméně pokud s ní potřebuji počítat vím kde jí mám hledat."
   ]
  },
  {
   "cell_type": "code",
   "execution_count": 14,
   "metadata": {
    "collapsed": false
   },
   "outputs": [],
   "source": [
    "from astropy import constants as C"
   ]
  },
  {
   "cell_type": "code",
   "execution_count": 15,
   "metadata": {
    "collapsed": false
   },
   "outputs": [
    {
     "data": {
      "text/latex": [
       "$1.4959787 \\times 10^{11} \\; \\mathrm{m}$"
      ],
      "text/plain": [
       "<Constant name='Astronomical Unit' value=149597870700.0 error=0.0 units='m' reference='IAU 2012 Resolution B2'>"
      ]
     },
     "execution_count": 15,
     "metadata": {},
     "output_type": "execute_result"
    }
   ],
   "source": [
    "C.au"
   ]
  },
  {
   "cell_type": "markdown",
   "metadata": {},
   "source": [
    "Řekněme, že mě zajímá relativní distribuce planetek v závislosti na jejich velké poloose. Jinými slovy chci vykreslit normovaný histogram. Než abych načítal celý soubor, raději si z něj vyříznu jen ten jeden sloupec, který mě v tuto chvíli zajímá. Následující příkaz přeskočí hlavičku souboru a ze zbytku vybere sloupec daný přesným rozsahem bytů. Výsledek se uloží do příhodně pojmenovaného souboru `a.dat`."
   ]
  },
  {
   "cell_type": "code",
   "execution_count": 16,
   "metadata": {
    "collapsed": true
   },
   "outputs": [],
   "source": [
    "!tail -n +42 MPCORB.DAT | cut -b 93-103 > a.dat"
   ]
  },
  {
   "cell_type": "markdown",
   "metadata": {},
   "source": [
    "Od teď už to půjde rychle. Napřed si z balíku `numpy` vytáhnu funkci pro načítání dat z textového souboru."
   ]
  },
  {
   "cell_type": "code",
   "execution_count": 17,
   "metadata": {
    "collapsed": false
   },
   "outputs": [],
   "source": [
    "from numpy import loadtxt"
   ]
  },
  {
   "cell_type": "markdown",
   "metadata": {},
   "source": [
    "Funkci jako parametr předám název souboru a data, které vrátí si uložím do proměnné symbolicky pojmenované `a`."
   ]
  },
  {
   "cell_type": "code",
   "execution_count": 43,
   "metadata": {
    "collapsed": false
   },
   "outputs": [],
   "source": [
    "a = loadtxt(\"a.dat\")"
   ]
  },
  {
   "cell_type": "markdown",
   "metadata": {},
   "source": [
    "Standardním způsobem importuji i modul `pyplot`, který mi umožňuje dělat nevídané kouzla s grafy."
   ]
  },
  {
   "cell_type": "code",
   "execution_count": 19,
   "metadata": {
    "collapsed": true
   },
   "outputs": [],
   "source": [
    "from matplotlib import pyplot as plt"
   ]
  },
  {
   "cell_type": "markdown",
   "metadata": {},
   "source": [
    "Nyní mi již nic nebrání vykreslit relativní distribuci planetek mezi Sluncem a Jupiterem."
   ]
  },
  {
   "cell_type": "code",
   "execution_count": 44,
   "metadata": {
    "collapsed": false
   },
   "outputs": [
    {
     "data": {
      "image/png": "[encoded data removed]",
      "text/plain": [
       "<matplotlib.figure.Figure at 0x7fda1017fba8>"
      ]
     },
     "metadata": {},
     "output_type": "display_data"
    }
   ],
   "source": [
    "plt.figure(figsize=(18,13))\n",
    "plt.title(\"Distribuce malých těles v Zemském okolí\")\n",
    "plt.xlabel(\"Velká poloosa [AU]\")\n",
    "plt.ylabel(\"Normalizovaný počet\")\n",
    "plt.grid(True)\n",
    "_ = plt.hist(a, bins=1000, range=(0,6), normed=True)"
   ]
  }
 ],
 "metadata": {
  "kernelspec": {
   "display_name": "Python 3",
   "language": "python",
   "name": "python3"
  },
  "language_info": {
   "codemirror_mode": {
    "name": "ipython",
    "version": 3
   },
   "file_extension": ".py",
   "mimetype": "text/x-python",
   "name": "python",
   "nbconvert_exporter": "python",
   "pygments_lexer": "ipython3",
   "version": "3.4.3"
  }
 },
 "nbformat": 4,
 "nbformat_minor": 0
}
