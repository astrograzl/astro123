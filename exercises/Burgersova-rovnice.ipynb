{
 "cells": [
  {
   "cell_type": "code",
   "execution_count": 2,
   "metadata": {
    "collapsed": false,
    "slideshow": {
     "slide_type": "skip"
    }
   },
   "outputs": [],
   "source": [
    "%matplotlib inline\n",
    "import seaborn\n",
    "import matplotlib as mpl\n",
    "mpl.rcParams[\"figure.figsize\"] = (16, 9)"
   ]
  },
  {
   "cell_type": "markdown",
   "metadata": {
    "slideshow": {
     "slide_type": "slide"
    }
   },
   "source": [
    "# Nevazká Burgersova rovnice\n",
    "\n",
    "> **Burgersova rovnice** je jednou ze základních parciálních diferenciálních rovnic mechaniky tekutin. Objevuje se v mnoha partiích aplikované matematiky, jako je například dynamika plynů a modelování dopravního toku. Rovnice je pojmenována po J. M. Burgersovi (1895–1981). Je ekvivalentní Navierově-Stokesově rovnici pro nestlačitelný tok bez tlakového členu. -- [Wiki](https://cs.wikipedia.org/wiki/Burgersova_rovnice)"
   ]
  },
  {
   "cell_type": "markdown",
   "metadata": {
    "slideshow": {
     "slide_type": "subslide"
    }
   },
   "source": [
    "* Najděte numerické řešení na intervalu $x = [1, 2]$ při počátečních podmínkách $u = 1$ pro $x \\leq 1.5$ a $u = 0$ pro $x > 1.5$.\n",
    "\n",
    "$$\n",
    "\\frac{\\partial u}{\\partial t} + u \\frac{\\partial u}{\\partial x} = 0\n",
    "$$"
   ]
  },
  {
   "cell_type": "markdown",
   "metadata": {
    "slideshow": {
     "slide_type": "notes"
    }
   },
   "source": [
    "To zní jako výzva! Ale než se bezhlavě vrhneme do jejího řešení, připravíme si napřed vše co budeme potřebovat. Knihovna Numpy je defacto zlatý standard v oblasti numerických výpočtů za pomoci programovacího jazyka Python. Matplotlib představuje z dnešního pohledu již nízko úrovňové API pro vykreslování publikování hodných grafů. Nad ním pak staví i další knihovny pro vykreslování dat získávaných z obsáhlých databází. Interaktivní widgety umožňují přímé zkoumání studovaného systému."
   ]
  },
  {
   "cell_type": "code",
   "execution_count": 3,
   "metadata": {
    "collapsed": true,
    "slideshow": {
     "slide_type": "subslide"
    }
   },
   "outputs": [],
   "source": [
    "import numpy as np\n",
    "from matplotlib import pyplot as plt\n",
    "from ipywidgets import interact"
   ]
  },
  {
   "cell_type": "markdown",
   "metadata": {
    "slideshow": {
     "slide_type": "slide"
    }
   },
   "source": [
    "## Laxova metoda\n",
    "\n",
    "Je jednou z nejjednoduších metod, hojně využivanou v numerické hydrodynamice. Dostaneme ji\n",
    "nahrazením $u_i^{n}$ v časové derivaci v rovnici (FTCS) průměrnou hodnotou určenou z jejich sousedů\n",
    "\n",
    "$$\n",
    "u_{i}^{n} \\approx \\frac{(u_{i+1}^{n}+u_{i-1}^n)}{2}.\n",
    "$$\n",
    "\n",
    "Obdržíme Laxovo diferenční schéma\n",
    "\n",
    "$$\n",
    "u_i^{n+1} = \\frac{1}{2} \\left( u_{i+1}^n + u_{i-1}^n \\right) - \\frac{1}{2} \\frac{v \\Delta t}{\\Delta x} \\left( u_{i+1}^n - u_{i-1}^n \\right) + D \\frac{\\Delta t}{(\\Delta x)^2} \\left( u_{i+1}^n - 2 u_i^n + u_{i-1}^n \\right)\n",
    "$$\n",
    "\n",
    "které až na poslední člen, vypadá zapsáno v jazyce Python následovně..."
   ]
  },
  {
   "cell_type": "code",
   "execution_count": 4,
   "metadata": {
    "collapsed": false,
    "slideshow": {
     "slide_type": "subslide"
    }
   },
   "outputs": [],
   "source": [
    "def lax_method(u, dx, dt, v, time):\n",
    "    \"\"\"Solution using Lax method\"\"\"\n",
    "    for t in range(time):\n",
    "        uu = np.copy(u)\n",
    "        for i in range(1, len(u)-1):\n",
    "            u[i] = 0.5 * (uu[i+1] + uu[i-1]) \\\n",
    "                 - 0.5 * v * dt / dx * (uu[i+1] - uu[i-1])\n",
    "    return u"
   ]
  },
  {
   "cell_type": "markdown",
   "metadata": {
    "slideshow": {
     "slide_type": "notes"
    }
   },
   "source": [
    "Nyní nám již nic nebrání ve vykreslení výsledku výpočtu v určitém čase pro zadané meze parametrů. Pro tuto mimořádnou příležitost si definujme zvláštní funkci, která kromě nastavení počátečních podmínek obstarává i samotnou grafickou prezentaci."
   ]
  },
  {
   "cell_type": "code",
   "execution_count": 5,
   "metadata": {
    "collapsed": false,
    "slideshow": {
     "slide_type": "slide"
    }
   },
   "outputs": [],
   "source": [
    "def plot_result(dx=0.01, dt=0.01, velocity=0.1, time=200):\n",
    "    \"\"\"Interactivly plot the result\"\"\"\n",
    "    ## initial conditions\n",
    "    x = np.linspace(1, 2, 1/dx)\n",
    "    u = np.ones_like(x)\n",
    "    u[x > 1.5] = 0\n",
    "    ## plot the result\n",
    "    plt.title(\"Burgers' equation\")\n",
    "    plt.xlabel(\"x\")\n",
    "    plt.ylabel(\"u\")\n",
    "    plt.plot(x, lax_method(u, dx, dt, velocity, time))\n",
    "    plt.grid(True)"
   ]
  },
  {
   "cell_type": "markdown",
   "metadata": {
    "slideshow": {
     "slide_type": "notes"
    }
   },
   "source": [
    "Ti hraví z vás, kteří si to zkoušíte sami, ho doufám vydíte i s avízovanými interaktivními prvky."
   ]
  },
  {
   "cell_type": "code",
   "execution_count": 6,
   "metadata": {
    "collapsed": false,
    "slideshow": {
     "slide_type": "subslide"
    }
   },
   "outputs": [
    {
     "data": {
      "image/png": "[encoded data removed]",
      "text/plain": [
       "<matplotlib.figure.Figure at 0x7fa40550cbe0>"
      ]
     },
     "metadata": {},
     "output_type": "display_data"
    }
   ],
   "source": [
    "interact(plot_result, dx=(1e-3, 1e-1, 1e-3), dt=(1e-3, 1, 1e-2),\n",
    "         velocity=(0.01, 1, 1e-2),  time=(0, 1000));"
   ]
  },
  {
   "cell_type": "markdown",
   "metadata": {
    "slideshow": {
     "slide_type": "slide"
    }
   },
   "source": [
    "### Úkoly pro studenty\n",
    "\n",
    "* Použijte sofistikovanější schéma výpočtu a výsledky vzájemně porovnejte.\n",
    "* Rozšiřte výpočet i do dalších prostorových dimenzí."
   ]
  }
 ],
 "metadata": {
  "celltoolbar": "Slideshow",
  "kernelspec": {
   "display_name": "Python 3",
   "language": "python",
   "name": "python3"
  },
  "language_info": {
   "codemirror_mode": {
    "name": "ipython",
    "version": 3
   },
   "file_extension": ".py",
   "mimetype": "text/x-python",
   "name": "python",
   "nbconvert_exporter": "python",
   "pygments_lexer": "ipython3",
   "version": "3.5.1"
  }
 },
 "nbformat": 4,
 "nbformat_minor": 0
}
