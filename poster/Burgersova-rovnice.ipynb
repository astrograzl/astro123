{
 "cells": [
  {
   "cell_type": "code",
   "execution_count": 5,
   "metadata": {
    "collapsed": false
   },
   "outputs": [],
   "source": [
    "%matplotlib inline"
   ]
  },
  {
   "cell_type": "markdown",
   "metadata": {},
   "source": [
    "**Problem 1**: Inviscid Burgers'equation\n",
    "\n",
    "$$\n",
    "\\frac{\\partial u}{\\partial t} + u \\frac{\\partial u}{\\partial x} = 0\n",
    "$$\n",
    "find numerical solution on the interval $x = [1, 2]$ and initial conditions $u = 1$ for $x \\leq 1.5$ and $u = 0$ for $x > 1.5$."
   ]
  },
  {
   "cell_type": "markdown",
   "metadata": {},
   "source": [
    "# Burgers' equation"
   ]
  },
  {
   "cell_type": "code",
   "execution_count": 6,
   "metadata": {
    "collapsed": true
   },
   "outputs": [],
   "source": [
    "import numpy as np\n",
    "from matplotlib import pyplot as plt\n",
    "from ipywidgets import interact"
   ]
  },
  {
   "cell_type": "code",
   "execution_count": 7,
   "metadata": {
    "collapsed": false
   },
   "outputs": [
    {
     "data": {
      "text/plain": [
       "None"
      ]
     },
     "metadata": {},
     "output_type": "display_data"
    },
    {
     "data": {
      "image/png": "[encoded data removed]",
      "text/plain": [
       "<matplotlib.figure.Figure at 0x7efe67b12b90>"
      ]
     },
     "metadata": {},
     "output_type": "display_data"
    }
   ],
   "source": [
    "@interact(time=(0, 200), velocity=(0.01, 2))\n",
    "def lax_method(time, velocity=0.1):\n",
    "    dx = 0.01\n",
    "    dt = 0.01\n",
    "    v = velocity\n",
    "    x = np.linspace(1, 2, 100)\n",
    "    u = np.ones_like(x); u[x > 1.5] = 0\n",
    "    \n",
    "    for t in range(time):\n",
    "        uu = np.copy(u)\n",
    "        for i in range(1, len(u)-1):\n",
    "            u[i] = 0.5 * (uu[i+1] + uu[i-1]) - 0.5 * v * dt / dx * (uu[i+1] - uu[i-1])\n",
    "    \n",
    "    ## Plotting of the result      \n",
    "    plt.title(\"Burgers' equation\")\n",
    "    plt.xlabel(\"x\")\n",
    "    plt.ylabel(\"u\")\n",
    "    plt.plot(x, u)\n",
    "    plt.grid(True)"
   ]
  },
  {
   "cell_type": "code",
   "execution_count": null,
   "metadata": {
    "collapsed": true
   },
   "outputs": [],
   "source": []
  }
 ],
 "metadata": {
  "kernelspec": {
   "display_name": "Python 2",
   "language": "python",
   "name": "python2"
  },
  "language_info": {
   "codemirror_mode": {
    "name": "ipython",
    "version": 2
   },
   "file_extension": ".py",
   "mimetype": "text/x-python",
   "name": "python",
   "nbconvert_exporter": "python",
   "pygments_lexer": "ipython2",
   "version": "2.7.9"
  }
 },
 "nbformat": 4,
 "nbformat_minor": 0
}
