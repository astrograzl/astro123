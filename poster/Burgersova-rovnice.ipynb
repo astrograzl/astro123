{
 "cells": [
  {
   "cell_type": "code",
   "execution_count": 1,
   "metadata": {
    "collapsed": true
   },
   "outputs": [],
   "source": [
    "%matplotlib inline"
   ]
  },
  {
   "cell_type": "markdown",
   "metadata": {},
   "source": [
    "# Burgersova rovnice"
   ]
  },
  {
   "cell_type": "markdown",
   "metadata": {},
   "source": [
    "Numericky vyřešte nevazkou Burgersovu rovnici \n",
    "\n",
    "$$\n",
    "\\frac{\\partial u}{\\partial t} + u \\frac{\\partial u}{\\partial x} = 0\n",
    "$$\n",
    "\n",
    "na intervalu $x = [1; 2]$ s počátečními podmínkami $u = 1$ pro $x \\leq 1.5$ a $u = 0$ pro $x > 1.5$."
   ]
  },
  {
   "cell_type": "code",
   "execution_count": 2,
   "metadata": {
    "collapsed": true
   },
   "outputs": [],
   "source": [
    "import numpy as np\n",
    "from matplotlib import pyplot as plt\n",
    "from ipywidgets import interact"
   ]
  },
  {
   "cell_type": "code",
   "execution_count": 26,
   "metadata": {
    "collapsed": false
   },
   "outputs": [
    {
     "data": {
      "text/plain": [
       "None"
      ]
     },
     "metadata": {},
     "output_type": "display_data"
    },
    {
     "data": {
      "image/png": "[encoded data removed]",
      "text/plain": [
       "<matplotlib.figure.Figure at 0x7f38bb83a438>"
      ]
     },
     "metadata": {},
     "output_type": "display_data"
    }
   ],
   "source": [
    "@interact(time=(0, 200))\n",
    "def lax_method(time):\n",
    "    dx = 0.01\n",
    "    dt = 0.01\n",
    "    v = 0.1\n",
    "    x = np.linspace(1, 2, 100)\n",
    "    u = np.ones_like(x); u[x > 1.5] = 0\n",
    "    for t in range(time):\n",
    "        uu = np.copy(u)\n",
    "        for i in range(1, len(u)-1):\n",
    "            u[i] = 0.5 * (uu[i+1] + uu[i-1]) - 0.5 * v * dt / dx * (uu[i+1] - uu[i-1])\n",
    "            \n",
    "    plt.title(\"Burgersova rovnice\")\n",
    "    plt.xlabel(\"x\")\n",
    "    plt.ylabel(\"u\")\n",
    "    plt.xlim([0.9, 2.1])\n",
    "    plt.ylim([-0.1, 1.1])\n",
    "    plt.plot(x, u)\n",
    "    plt.grid(True)"
   ]
  }
 ],
 "metadata": {
  "kernelspec": {
   "display_name": "Python 3",
   "language": "python",
   "name": "python3"
  },
  "language_info": {
   "codemirror_mode": {
    "name": "ipython",
    "version": 3
   },
   "file_extension": ".py",
   "mimetype": "text/x-python",
   "name": "python",
   "nbconvert_exporter": "python",
   "pygments_lexer": "ipython3",
   "version": "3.4.3"
  }
 },
 "nbformat": 4,
 "nbformat_minor": 0
}
