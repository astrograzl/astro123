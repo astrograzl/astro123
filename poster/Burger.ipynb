{
 "cells": [
  {
   "cell_type": "code",
   "execution_count": 2,
   "metadata": {
    "collapsed": false
   },
   "outputs": [],
   "source": [
    "%matplotlib inline\n",
    "import seaborn"
   ]
  },
  {
   "cell_type": "markdown",
   "metadata": {},
   "source": [
    "# Burgers' equation\n",
    "\n",
    "> Burgers' equation is a fundamental partial differential equation occuring in various areas of applied mathematics, such as fluid mechanics, nonlinear acoustics, gas dynamics, traffic flow. It is<br/> named for Johannes Martinus Burgers (1895–1981). -- [Wikipedia](https://en.wikipedia.org/wiki/Burgers%27_equation)"
   ]
  },
  {
   "cell_type": "markdown",
   "metadata": {},
   "source": [
    "**Problem 1**: Inviscid Burgers'equation\n",
    "\n",
    "$$\n",
    "\\frac{\\partial u}{\\partial t} + u \\frac{\\partial u}{\\partial x} = 0\n",
    "$$\n",
    "\n",
    "find numerical solution on the interval $x = [1, 2]$<br/> and initial conditions $u = 1$ for $x \\leq 1.5$ and $u = 0$ for $x > 1.5$."
   ]
  },
  {
   "cell_type": "code",
   "execution_count": 3,
   "metadata": {
    "collapsed": true
   },
   "outputs": [],
   "source": [
    "import numpy as np\n",
    "from matplotlib import pyplot as plt\n",
    "from ipywidgets import interact"
   ]
  },
  {
   "cell_type": "code",
   "execution_count": 4,
   "metadata": {
    "collapsed": false
   },
   "outputs": [],
   "source": [
    "def lax_method(u, dx, dt, v, time):\n",
    "    \"\"\"Solution using Lax method\"\"\"\n",
    "    for t in range(time):\n",
    "        uu = np.copy(u)\n",
    "        for i in range(1, len(u)-1):\n",
    "            u[i] = 0.5 * (uu[i+1] + uu[i-1]) \\\n",
    "                 - 0.5 * v * dt / dx * (uu[i+1] - uu[i-1])\n",
    "    return u"
   ]
  },
  {
   "cell_type": "code",
   "execution_count": 5,
   "metadata": {
    "collapsed": false
   },
   "outputs": [
    {
     "data": {
      "image/png": "[encoded data removed]",
      "text/plain": [
       "<matplotlib.figure.Figure at 0x7fdfc4cbee80>"
      ]
     },
     "metadata": {},
     "output_type": "display_data"
    }
   ],
   "source": [
    "@interact(dx=(1e-3, 1e-1, 1e-3), dt=(1e-3, 1, 1e-2),\n",
    "          velocity=(0.01, 1, 1e-2),  time=(0, 500))\n",
    "def plot_result(dx=0.01, dt=0.01, velocity=0.1, time=200):\n",
    "    \"\"\"Interactivly plot the result\"\"\"\n",
    "    ## initial conditions\n",
    "    x = np.linspace(1, 2, 1/dx)\n",
    "    u = np.ones_like(x)\n",
    "    u[x > 1.5] = 0\n",
    "    ## plot the result\n",
    "    plt.title(\"Burgers' equation\")\n",
    "    plt.xlabel(\"x\")\n",
    "    plt.ylabel(\"u\")\n",
    "    plt.plot(x, lax_method(u, dx, dt, velocity, time))\n",
    "    plt.grid(True)"
   ]
  },
  {
   "cell_type": "markdown",
   "metadata": {},
   "source": [
    "[![QR Code](qrcode.png)](http://nbviewer.jupyter.org/url/www.physics.muni.cz/~janak/tmp/Burger.ipynb)\n",
    "\n",
    "<center>Feel free to download, modify and run this notebook.</center>"
   ]
  }
 ],
 "metadata": {
  "kernelspec": {
   "display_name": "Python 3",
   "language": "python",
   "name": "python3"
  },
  "language_info": {
   "codemirror_mode": {
    "name": "ipython",
    "version": 3
   },
   "file_extension": ".py",
   "mimetype": "text/x-python",
   "name": "python",
   "nbconvert_exporter": "python",
   "pygments_lexer": "ipython3",
   "version": "3.5.1"
  }
 },
 "nbformat": 4,
 "nbformat_minor": 0
}
