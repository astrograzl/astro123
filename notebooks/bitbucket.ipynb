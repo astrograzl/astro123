{
 "cells": [
  {
   "cell_type": "markdown",
   "metadata": {},
   "source": [
    "# Začínáme používat `git`"
   ]
  },
  {
   "cell_type": "markdown",
   "metadata": {
    "collapsed": true
   },
   "source": [
    "Používání verzovacího systému Git se ve svém principu nikterak výrazně neliší od používání obdobných v současnosti populárních sociálních sítí. Jako je například *Facebook*. **GitHub** je právě takovou sociální sítí zaměřenou na sdílení zdrojových kódů průběžně vyvíjených programů. Prvním krokem v seznámovacím procesu s `git`em by měla být návštěva jeho webové prezentace na adrese <https://git-scm.com/>, kde naleznete veškeré potřebné informace, které budete nadále potřebovat k jeho instalaci a používání a to v podobě jak on-line manuálovách stránek, tak i videí či elektronické knihy, jejiž český překlad plný kouzelných příkazů je zdarma dostupný v edici knih správce domény [NIC.CZ](https://knihy.nic.cz/)."
   ]
  },
  {
   "cell_type": "markdown",
   "metadata": {},
   "source": [
    "> <img src=\"https://knihy.nic.cz/files/nic/img/thumbnail_progit.png\" alt=\"Pro Git\" align=\"right\"/>\n",
    "> **Pro Git**. *Scott Chacon*\n",
    "> je popularizátorem systému správy verzí Git a pracuje také jako vývojář v Ruby na projektu GitHub.com Git je distribuovaný systém pro správu verzí, který se používá zejména při vývoji svobodného a open source softwaru. Git si klade za cíl být rychlým a efektivním nástrojem pro správu verzí. V knize se čtenář seznámí jak se stát rychlým a efektivním při jeho používání. Seznámí se nejen s principy používání, ale také s detaily jak Git funguje interně nebo s možnostmi, které nabízejí některé další doplňkové nástroje."
   ]
  },
  {
   "cell_type": "markdown",
   "metadata": {},
   "source": [
    "První věcí, kterou by jste po úspěšné instalaci `git`u měli udělat, je nastavení vašich osobních údajů, podle nichž budou identifikovány všechny vaše příspěvky."
   ]
  },
  {
   "cell_type": "raw",
   "metadata": {},
   "source": [
    "$ git config --global user.name \"John Doe\"\n",
    "$ git config --global user.email johndoe@example.com"
   ]
  },
  {
   "cell_type": "markdown",
   "metadata": {},
   "source": [
    "Pro efektivnější používání `git`u z příkazové řádky terminálu, je užitečné nastavit přinejmenším váš oblíbený textový editor jako výchozí, pro vytváření zpráv při odesílání příspěvků do správy verzí. Například takto:"
   ]
  },
  {
   "cell_type": "raw",
   "metadata": {},
   "source": [
    "$ git config --global core.editor nano"
   ]
  },
  {
   "cell_type": "markdown",
   "metadata": {},
   "source": [
    "Nyní již nastal čas vytvořit váš..."
   ]
  },
  {
   "cell_type": "markdown",
   "metadata": {},
   "source": [
    "## 1. projekt"
   ]
  },
  {
   "cell_type": "markdown",
   "metadata": {},
   "source": [
    "* vytvořte nový adresář pro váš projekt v aktuálním pracovním adresáři"
   ]
  },
  {
   "cell_type": "raw",
   "metadata": {},
   "source": [
    "$ mkdir projekt"
   ]
  },
  {
   "cell_type": "markdown",
   "metadata": {},
   "source": [
    "* přejděte do tohoto adresáře"
   ]
  },
  {
   "cell_type": "raw",
   "metadata": {},
   "source": [
    "$ cd projekt"
   ]
  },
  {
   "cell_type": "markdown",
   "metadata": {},
   "source": [
    "* inicializujte nový projekt pro git"
   ]
  },
  {
   "cell_type": "raw",
   "metadata": {},
   "source": [
    "$ git init"
   ]
  },
  {
   "cell_type": "markdown",
   "metadata": {},
   "source": [
    "* vytvořte prozatím prázdný soubor README.md"
   ]
  },
  {
   "cell_type": "raw",
   "metadata": {},
   "source": [
    "$ touch README.md"
   ]
  },
  {
   "cell_type": "markdown",
   "metadata": {},
   "source": [
    "* přidejte tento nově vytvořený soubor do správy verzí"
   ]
  },
  {
   "cell_type": "raw",
   "metadata": {},
   "source": [
    "$ git add README.md"
   ]
  },
  {
   "cell_type": "markdown",
   "metadata": {},
   "source": [
    "Při editaci souboru `README.md` ve svém oblíbeném textovém editoru mějte na mysli, že tento soubor bude první a možná taky jediný soubor, který si náhodní návštěvníci vašeho projektu přečtou. Tvořte jej proto tak, aby byl zajímavý již od prvního řádku. Pro strukturování textu můžete s výhodou použít jednoduchý formát [Markdown](https://help.github.com/articles/markdown-basics/). Ten vychází z léty ověřených dobrých praktik při psaní e-m@ilových zpráv. Jeho jednoduchá syntaxe umožnuje rychlé psaní dokumentace a automatický export do dalších formátu. Ostatně jsou v něm napsány i celá tyto skripta ve své původní podobě."
   ]
  },
  {
   "cell_type": "markdown",
   "metadata": {},
   "source": [
    "Jste-li spokojení se současnou podobou souboru `README.md` nezapoňte jej odeslat do správy verzí příkazem"
   ]
  },
  {
   "cell_type": "raw",
   "metadata": {},
   "source": [
    "$ git commit README.md"
   ]
  },
  {
   "cell_type": "markdown",
   "metadata": {},
   "source": [
    "na čež se spustí vámi zvolený editor a vy budete vyzvání k sepsání krátké zprávy objasňující provedené změny. Tuto zprávu bude číst vaše budoucí *já*, buďte tedy k sobě ohleduplní a zanechte si smysluplnou zprávu."
   ]
  },
  {
   "cell_type": "markdown",
   "metadata": {},
   "source": [
    "Pokud jste tak ještě neučinili, vytvořte si nový cloudový repozitář pomocí webové služby [GitHub](https://github.com/), nebo [Bitbucket](https://bitbucket.org/) a následujte instrukce, které vám přesně napoví, jak jej propojit s vaším lokálním projektem."
   ]
  },
  {
   "cell_type": "markdown",
   "metadata": {},
   "source": [
    "Posledním krokem, který je potřeba udělat pro publikování vašeho projektu on-line v síti Internet, včetně hostorie úprav, je jeho odeslání do vzdáleného repozitáře. Příkaz, který má toto na starosti vypadá povětšinou následovně:"
   ]
  },
  {
   "cell_type": "raw",
   "metadata": {},
   "source": [
    "$ git push"
   ]
  },
  {
   "cell_type": "markdown",
   "metadata": {},
   "source": [
    "Aktualizaci vaší lokální verze vůči vzdálenému repozitáři provedete příkazem"
   ]
  },
  {
   "cell_type": "raw",
   "metadata": {},
   "source": [
    "$ git pull"
   ]
  },
  {
   "cell_type": "markdown",
   "metadata": {},
   "source": [
    "Záznam o posledních provedených změnách v lidsky čitelné podobě získáte příkazem"
   ]
  },
  {
   "cell_type": "raw",
   "metadata": {},
   "source": [
    "$ git log"
   ]
  },
  {
   "cell_type": "markdown",
   "metadata": {},
   "source": [
    "Strojově čitelný výpis změn ve zdrojovém kódu můžete zobrazit zadáním příkazu"
   ]
  },
  {
   "cell_type": "raw",
   "metadata": {},
   "source": [
    "$ git diff"
   ]
  },
  {
   "cell_type": "markdown",
   "metadata": {},
   "source": [
    "Detailní nápovědu ke všem příkazům `git`u získáte po spuštění `git`u s parametrem `help`, tedy takto"
   ]
  },
  {
   "cell_type": "raw",
   "metadata": {},
   "source": [
    "$ git help"
   ]
  },
  {
   "cell_type": "markdown",
   "metadata": {},
   "source": [
    "Věnujte taky zvýšenou pozornost výpisům, které `git` poskutyje, i v nich se ukrývá často prospěšná nápověda."
   ]
  }
 ],
 "metadata": {
  "kernelspec": {
   "display_name": "Python 3",
   "language": "python",
   "name": "python3"
  },
  "language_info": {
   "codemirror_mode": {
    "name": "ipython",
    "version": 3
   },
   "file_extension": ".py",
   "mimetype": "text/x-python",
   "name": "python",
   "nbconvert_exporter": "python",
   "pygments_lexer": "ipython3",
   "version": "3.4.3"
  }
 },
 "nbformat": 4,
 "nbformat_minor": 0
}
