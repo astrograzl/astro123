{
 "cells": [
  {
   "cell_type": "code",
   "execution_count": 1,
   "metadata": {
    "collapsed": true
   },
   "outputs": [],
   "source": [
    "# tato úloha bude interaktivní\n",
    "# zapneme si proto podporu vykreslování\n",
    "# pomocí následujícího *magického* příkazu\n",
    "%matplotlib inline"
   ]
  },
  {
   "cell_type": "markdown",
   "metadata": {},
   "source": [
    "# Near Earth Object"
   ]
  },
  {
   "cell_type": "markdown",
   "metadata": {},
   "source": [
    "Nejen v bezprostředním zemském okolí se pohybuje nespočet malých těles pocházejících z bouřlivého období formování Sluneční soustavy. Pojdmě se nyní společně podívat, co všechno o nich dokážeme zjistit z jednoho souboru dostupného na Internetu. Ten o nich před mnoha lety začali psát ještě skuteční lidé -- sám jsem vám jednoho osobně znal, ale časy jsou zlé i pro Kamila, a tak dnes jejich práci převzali již roboti. Nezbývá než vzdát čest mladým odvážným můžům s výkonnými teleskopy a chabým připojením k internetu. Že jen pomocí pár kouzelných příkazů posílaných přes terminál k vykonání na vzdáleném mainframu. Zvládají již celá desetiletí spravovat tento dokument:\n",
    "\n",
    "![Mousepad](../screenshots/mousepad_2015-05-17_17-01-23.png)"
   ]
  },
  {
   "cell_type": "markdown",
   "metadata": {},
   "source": [
    "Začněme tím, že si tento soubor stáhneme na vlastní počítač..."
   ]
  },
  {
   "cell_type": "code",
   "execution_count": 3,
   "metadata": {
    "collapsed": false
   },
   "outputs": [
    {
     "name": "stdout",
     "output_type": "stream",
     "text": [
      "--2015-05-15 22:34:10--  http://www.minorplanetcenter.net/iau/MPCORB/MPCORB.DAT\n",
      "Překládám www.minorplanetcenter.net (www.minorplanetcenter.net)… 131.142.195.59\n",
      "Navazuje se spojení s www.minorplanetcenter.net (www.minorplanetcenter.net)|131.142.195.59|:80… spojeno.\n",
      "HTTP požadavek odeslán, program čeká na odpověď… 200 OK\n",
      "Délka: 139263720 (133M) [text/plain]\n",
      "Ukládám do: „MPCORB.DAT.1“\n",
      "\n",
      "MPCORB.DAT.1         13%[==>                   ]  18,22M   953KB/s zbývá 87s   ^C\n"
     ]
    }
   ],
   "source": [
    "!wget http://www.minorplanetcenter.net/iau/MPCORB/MPCORB.DAT"
   ]
  },
  {
   "cell_type": "markdown",
   "metadata": {},
   "source": [
    "A až se stahování dokončí, tak spočítáme takzvaný *hash*. Pomocí něj může prvák ověřit pravost souboru a druhák zvládne i dohledat jeho historickou verzi v gitovém repozitáři."
   ]
  },
  {
   "cell_type": "code",
   "execution_count": 4,
   "metadata": {
    "collapsed": false
   },
   "outputs": [
    {
     "name": "stdout",
     "output_type": "stream",
     "text": [
      "28d7d6dfe70d618deefa7d1a4863e0ba  MPCORB.DAT\r\n"
     ]
    }
   ],
   "source": [
    "!md5sum MPCORB.DAT"
   ]
  },
  {
   "cell_type": "markdown",
   "metadata": {},
   "source": [
    "Než se soubor pokusím bezhlavě zobrazit v textovém editoru, napřed si o něm zjistím základní informace. K tomu poslouží příkaz `wc` jenž dokáže spočítat všechny řádky, slova i jednotlivé znaky v souboru, který mu předám jako parametr."
   ]
  },
  {
   "cell_type": "code",
   "execution_count": 5,
   "metadata": {
    "collapsed": false
   },
   "outputs": [
    {
     "name": "stdout",
     "output_type": "stream",
     "text": [
      "   686050  16673479 139261690 MPCORB.DAT\r\n"
     ]
    }
   ],
   "source": [
    "!wc MPCORB.DAT"
   ]
  },
  {
   "cell_type": "markdown",
   "metadata": {},
   "source": [
    "Při pohledu na první číslo okamžitě zpozorním! Téměř **1 000 000** řádků. To bude asi velký soubor našptává mi dobře známý hlas v mé hlavě. Zeptám se tedy svého počítače: \"Počítači, jaká je velikost souboru? A řekni mi to prosím v nějakých lidsky srozumitelných jednotkách.\""
   ]
  },
  {
   "cell_type": "code",
   "execution_count": 1,
   "metadata": {
    "collapsed": false
   },
   "outputs": [
    {
     "name": "stdout",
     "output_type": "stream",
     "text": [
      "133M\tMPCORB.DAT\r\n"
     ]
    }
   ],
   "source": [
    "!du -h MPCORB.DAT"
   ]
  },
  {
   "cell_type": "markdown",
   "metadata": {},
   "source": [
    "Hmmm, to se na disketu asi nevleze, leda že bych použil kompresi, ale mám já vůbec ještě nějakou disketovou mechaniku? Mno nic, podíváme se na pár prvních řádků souboru. A to právě tolik, kolik se mi jich vleze do okna terminálu."
   ]
  },
  {
   "cell_type": "code",
   "execution_count": 2,
   "metadata": {
    "collapsed": false
   },
   "outputs": [
    {
     "name": "stdout",
     "output_type": "stream",
     "text": [
      "MINOR PLANET CENTER ORBIT DATABASE (MPCORB)\r\n",
      "\r\n",
      "This file contains published orbital elements for all numbered and unnumbered\r\n",
      "multi-opposition minor planets for which it is possible to make reasonable\r\n",
      "predictions.  It also includes published elements for recent one-opposition\r\n",
      "minor planets and is intended to be complete through the last issued Daily\r\n",
      "Orbit Update MPEC.  As such it is intended to be of interest primarily\r\n",
      "to astrometric observers.\r\n",
      "\r\n",
      "   Software programs may include this datafile amongst their datasets, as\r\n",
      "   long as this header is included (it is acceptable if it is contained\r\n",
      "   in a file separate from the actual data) and that proper attribution\r\n",
      "   to the Minor Planet Center is given.  Credit to the individual orbit\r\n",
      "   computers is implicit by the inclusion of a reference and the name of\r\n",
      "   the orbit computer on each orbit record.  Information on how to obtain\r\n",
      "   updated copies of the datafile must also be included.\r\n",
      "\r\n",
      "   The work of the individual astrometric observers, without whom none of\r\n",
      "   the work of the Minor Planet Center would be possible, is gratefully\r\n",
      "   acknowledged.  Credit to the individual observers is implicit by the\r\n",
      "   inclusion of the reference to the publication of their observations in\r\n",
      "   all data sets distributed by the Minor Planet Center.\r\n",
      "\r\n",
      "New versions of this file, updated on a daily basis, will be available at:\r\n",
      "\r\n",
      "          http://www.minorplanetcenter.org/iau/MPCORB/MPCORB.DAT\r\n",
      "\r\n",
      "The elements contained within MPCORB are divided into three sections,\r\n",
      "separated by blank lines.  The first section contains the numbered objects,\r\n",
      "the second section contains the unnumbered objects with perturbed orbit\r\n",
      "solutions and the third contains the recent 1-opposition objects with\r\n",
      "unperturbed orbit solutions.  Each object's elements are stored on a single\r\n",
      "line, the format of which is described at:\r\n",
      "\r\n",
      "          http://www.minorplanetcenter.org/iau/info/MPOrbitFormat.html\r\n",
      "\r\n",
      "A brief header is given below:\r\n",
      "\r\n",
      "Des'n     H     G   Epoch     M        Peri.      Node       Incl.       e            n           a        Reference #Obs #Opp    Arc    rms  Perts   Computer\r\n",
      "\r\n",
      "----------------------------------------------------------------------------------------------------------------------------------------------------------------\r\n",
      "00001    3.34  0.12 K156R 138.66222   72.65410   80.32720   10.59230  0.0757825  0.21402349   2.7679724  0 MPO332812  6543 108 1802-2015 0.60 M-v 30h MPCLINUX   0000      (1) Ceres              20150321\r\n"
     ]
    }
   ],
   "source": [
    "!head -42 MPCORB.DAT"
   ]
  },
  {
   "cell_type": "markdown",
   "metadata": {},
   "source": [
    "Ano, už to vidím, na posledním řádku, číslo 2,76..., to je přece délka velké poloosy prvně objevené planetky Ceres na počátku 19.&nbsp;století, vyjádřená v Astronomických jednotkách. Dodnes vzpomínám na ten den, kdy byla Mezinárodní astronomickou unií slavnotně definována jako 150&nbsp;Mkm."
   ]
  },
  {
   "cell_type": "code",
   "execution_count": 8,
   "metadata": {
    "collapsed": true
   },
   "outputs": [],
   "source": [
    "!tail -n +42 MPCORB.DAT | cut -b 95-104 > a.out"
   ]
  },
  {
   "cell_type": "code",
   "execution_count": 6,
   "metadata": {
    "collapsed": false
   },
   "outputs": [],
   "source": [
    "from numpy import loadtxt"
   ]
  },
  {
   "cell_type": "code",
   "execution_count": 7,
   "metadata": {
    "collapsed": false
   },
   "outputs": [],
   "source": [
    "data = loadtxt(\"a.out\")"
   ]
  },
  {
   "cell_type": "code",
   "execution_count": 8,
   "metadata": {
    "collapsed": true
   },
   "outputs": [],
   "source": [
    "from matplotlib import pyplot as plt"
   ]
  },
  {
   "cell_type": "code",
   "execution_count": 9,
   "metadata": {
    "collapsed": false
   },
   "outputs": [
    {
     "data": {
      "image/png": "[encoded data removed]",
      "text/plain": [
       "<matplotlib.figure.Figure at 0x7f03053c0630>"
      ]
     },
     "metadata": {},
     "output_type": "display_data"
    }
   ],
   "source": [
    "plt.figure(figsize=(18,13))\n",
    "plt.title(\"Distribuce malých těles v Zemském okolí\")\n",
    "plt.xlabel(\"Velká poloosa [AU]\")\n",
    "plt.ylabel(\"Normalizovaný počet\")\n",
    "plt.grid(True)\n",
    "n, a, p = plt.hist(data, bins=1000, range=[0, 6], normed=True)"
   ]
  }
 ],
 "metadata": {
  "kernelspec": {
   "display_name": "Python 3",
   "language": "python",
   "name": "python3"
  },
  "language_info": {
   "codemirror_mode": {
    "name": "ipython",
    "version": 3
   },
   "file_extension": ".py",
   "mimetype": "text/x-python",
   "name": "python",
   "nbconvert_exporter": "python",
   "pygments_lexer": "ipython3",
   "version": "3.4.3"
  }
 },
 "nbformat": 4,
 "nbformat_minor": 0
}
