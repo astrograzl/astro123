{
 "cells": [
  {
   "cell_type": "markdown",
   "metadata": {},
   "source": [
    "# Jupyter Notebook\n",
    "\n",
    "<!-- https://jupyter.org/assets/main-logo.svg -->\n",
    "![Jupyter logo](images/main-logo.svg)\n",
    "\n",
    "**Jupyter Notebook** je webová aplikace, která umožňuje vytvářet a sdílet dokumenty obsahující funkční ukázky kódu, matematické rovnice, interaktivní vizualizace a doprovodný text. Možnosti jeho použití zahrnují analýzu dat, numerické simulace, statistické modelování i strojové učení. Než se pustíš do jeho instalace, můžes si ho napřed vyzkoušet on-line na stránce **<https://try.jupyter.org>**."
   ]
  },
  {
   "cell_type": "markdown",
   "metadata": {},
   "source": [
    "## Miniconda\n",
    "\n",
    "Nejednoduší způsob jak spustit Jupyter Notebook na tvém osobním počítači, bez ohledu na operační systém, který preferuješ, je použití některé ze speciálních vědeckých distribucí Pythonu. Jako rozumná volba se momentálně jeví instalátor [Miniconda](http://conda.pydata.org/miniconda.html). Po jeho úspěšné instalaci můžeš Jupyter Notebook, stejně jako další potřebné balíčky nainstalovat jediným příkazem\n",
    "\n",
    "```bash\n",
    "$ conda install jupyter\n",
    "```\n",
    "\n",
    "Zásadní výhodou použití této distribuce je snadná správa virtuálních prostředí, které ti umožní mít pro různé projekty instalované potřebné balíčky v požadované verzi. Nové virtuální prostředí s instalovanými balíčky uvedenými v souboru `environment.yml` vytvoříš pomocí příkazu\n",
    "\n",
    "```bash\n",
    "$ conda create --name astro123 --file environment.yml\n",
    "```\n",
    "Jeho následnou aktivaci provedeš zadáním příkazu\n",
    "\n",
    "```bash\n",
    "$ source activate astro123\n",
    "$ activate astro123  #  Windows\n",
    "```\n",
    "naopak pro opuštění virtuálního prostředí zadej příkaz\n",
    "\n",
    "```bash\n",
    "$ source deactivate\n",
    "$ deactivate  #  Windows\n",
    "```\n",
    "\n",
    "Samotný Jupyter Notebook pak spustíš intuitivním příkazem\n",
    "\n",
    "```bash\n",
    "$ jupyter notebook\n",
    "```\n",
    "\n",
    "načež by se ti ve webovém prohlížeči měla otevřít nová stránka na adrese  **<http://localhost:8888>**."
   ]
  },
  {
   "cell_type": "markdown",
   "metadata": {},
   "source": [
    "## Typografická konvence\n",
    "\n",
    "Aby jsme si v dalším textu lépe rozumněli, zasvětím tě raději hned na začátku do typografické konvence, kterou budeme nadále v těchto skriptech používat. Běžný text je sázen běžným písmem. Nové pojmy, které stojí za zvýšení pozornosti vyznačujeme *kurzívou* a obzvláště důležité termíny zvýrazňujeme **tučně**. Slova psaná `strojovým` písmem jsou určena pro strojové zpracování. Znak `$` představuje výzvu interpretu shellu (Bash) a značí, že následující příkaz má být zadán do okna *terminálu*. Symbolem `#` zpravidla začíná komentář. Hypertextové [odkazy](#) pak představují zkratku pro snažší procházení mezi jednotlivými stránkami.\n",
    "\n",
    "Buňky uvozené `In [ ]:` představují vstup pro příkazy jazyka Python v interaktivním webovém prostředí Jupyter Notebooku. Za nimi následuje výstup po provedení příkazu označený `Out[ ]:`, jak je patrno na příkladu níže."
   ]
  },
  {
   "cell_type": "code",
   "execution_count": 1,
   "metadata": {
    "collapsed": false
   },
   "outputs": [
    {
     "data": {
      "text/plain": [
       "3"
      ]
     },
     "execution_count": 1,
     "metadata": {},
     "output_type": "execute_result"
    }
   ],
   "source": [
    "1 + 2"
   ]
  }
 ],
 "metadata": {
  "kernelspec": {
   "display_name": "Python 3",
   "language": "python",
   "name": "python3"
  },
  "language_info": {
   "codemirror_mode": {
    "name": "ipython",
    "version": 3
   },
   "file_extension": ".py",
   "mimetype": "text/x-python",
   "name": "python",
   "nbconvert_exporter": "python",
   "pygments_lexer": "ipython3",
   "version": "3.5.1"
  }
 },
 "nbformat": 4,
 "nbformat_minor": 0
}
