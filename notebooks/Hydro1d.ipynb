{
 "cells": [
  {
   "cell_type": "markdown",
   "metadata": {},
   "source": [
    " # First simple hydrodynamics code\n",
    " \n",
    " ## Základní rovnice hydrodynamiky"
   ]
  },
  {
   "cell_type": "markdown",
   "metadata": {},
   "source": [
    "K~popisu pohybu kontinua můžeme použít dva alternativní přístupy, Eulerův popis a Langrangeův popis. V~Eulerově popisu je pohyb popsán vůči pevnému souřadnicovému systému (ne nutně inerciálnímu). Hydrodynamické rovnice jsou potom parciální diferenciální rovnice vzhledem k~prostoru a času, popisující vývoj jednotlivých hydrodynamických veličin. Naproti tomu v~Lagrangeově popisu je celé kontinuum rozděleno na určité elementární části objemu a je sledován pohyb každé této elementární části. Oba dva tyto přístupy mají své výhody a nevýhody. V~našem popisu a kódu se omezíme na první, tedy Eulerův přístup.\n",
    "\n",
    "Nejprve zavedeme značení jednotlivých hydrodynamických veličin, kterého se budeme držet v~celém dalším textu. Základními hydrodynamickými veličinami jsou skalární hustota $\\rho$, tlak $p$, vektorová rychlost elementu kontinua $\\vec{v}$ a vnitřní energie plynu $U$. Tyto veličiny jsou vzájemně svázány pomocí hydrodynamických rovnic. Dále se v~našem přístupu omezíme na ideální tekutinu, nebudeme tedy započítávat vazkost tekutiny. To je v~případě drtivé většiny astrofyzikálních aplikací zcela oprávněná aproximace. V~takovém případě lze kontiunum popsat Eulerovými rovnicemi: rovnicí kontinuity, rovnicí pro hybnost a rovnicí pro energii.\n",
    "\n"
   ]
  },
  {
   "cell_type": "markdown",
   "metadata": {},
   "source": [
    "### Generation of the grid"
   ]
  },
  {
   "cell_type": "markdown",
   "metadata": {},
   "source": [
    "*Fortran* array starting from 1 .. number of points + 4\n",
    "\n",
    "*Python* numpy array starting from 0 .. number of points + 3\n",
    "\n",
    "'0 0 1 1 2 2 3 3 4 4 ...i  i i+1...ig+1 ig+1 ig+2 ig+2 ig+3 ig+3'  \n",
    "'| : | : | : | : | : |  |  :  |      |    :    |    :    |    :'  \n",
    "'  S S B B I I I I I I  I     I      I    I    B    B    S    S'  \n",
    "  \n",
    "where *S* mean symmetry points, *B* boundary points and *I* inner points"
   ]
  },
  {
   "cell_type": "code",
   "execution_count": 1,
   "metadata": {
    "collapsed": false
   },
   "outputs": [
    {
     "ename": "ImportError",
     "evalue": "No module named 'ipyparallel'",
     "output_type": "error",
     "traceback": [
      "\u001b[1;31m---------------------------------------------------------------------------\u001b[0m",
      "\u001b[1;31mImportError\u001b[0m                               Traceback (most recent call last)",
      "\u001b[1;32m<ipython-input-1-1ec271c48d6c>\u001b[0m in \u001b[0;36m<module>\u001b[1;34m()\u001b[0m\n\u001b[0;32m      5\u001b[0m \u001b[1;33m\u001b[0m\u001b[0m\n\u001b[0;32m      6\u001b[0m \u001b[1;32mimport\u001b[0m \u001b[0mos\u001b[0m\u001b[1;33m\u001b[0m\u001b[0m\n\u001b[1;32m----> 7\u001b[1;33m \u001b[1;32mimport\u001b[0m \u001b[0mipyparallel\u001b[0m \u001b[1;32mas\u001b[0m \u001b[0mipp\u001b[0m\u001b[1;33m\u001b[0m\u001b[0m\n\u001b[0m\u001b[0;32m      8\u001b[0m \u001b[0mrc\u001b[0m \u001b[1;33m=\u001b[0m \u001b[0mipp\u001b[0m\u001b[1;33m.\u001b[0m\u001b[0mClient\u001b[0m\u001b[1;33m(\u001b[0m\u001b[1;33m)\u001b[0m\u001b[1;33m\u001b[0m\u001b[0m\n\u001b[0;32m      9\u001b[0m \u001b[1;33m\u001b[0m\u001b[0m\n",
      "\u001b[1;31mImportError\u001b[0m: No module named 'ipyparallel'"
     ]
    }
   ],
   "source": [
    "%matplotlib inline\n",
    "\n",
    "import numpy as np\n",
    "import matplotlib.pylab as plt\n",
    "\n",
    "import os\n",
    "import ipyparallel as ipp\n",
    "rc = ipp.Client()\n",
    "\n",
    "all_engines = rc[:]\n",
    "view = rc.load_balanced_view()"
   ]
  },
  {
   "cell_type": "code",
   "execution_count": 27,
   "metadata": {
    "collapsed": false
   },
   "outputs": [],
   "source": [
    "class Hydro1D:\n",
    "    \n",
    "    def __init__(self, number_of_points=100, time_end=200., xmin=1.0, xmax=10.0, sound_speed = 1.0, cfl=0.2, vi1=2./9.,\\\n",
    "                 subsonic_inflow = True, subsonic_outflow = False, viscosity =0.0):\n",
    "        '''\n",
    "        Initializing of the internal variables and settings parameters of the problem\n",
    "        \n",
    "        Parameters:\n",
    "        -----------\n",
    "        \n",
    "        number_of_points:       integer type         number of grid points\n",
    "        xmin,xmax:              integer type         minimal and maximal physical value of on x-grid\n",
    "        \n",
    "        subsonic_inflow         boolean type         boundary condition according to characteristics, \n",
    "                                                     true value mean that density on inner boundary\n",
    "                                                     is fixed and momentum flux is extrapolated, false\n",
    "                                                     mean both variables are fixed\n",
    "                                                     \n",
    "        subsonic_outflow        boolean type         boundary condition according to characteristics,\n",
    "                                                     true value mean that density on outer boundary mean\n",
    "                                                     is fixed and momentum flux is extrapolated, false \n",
    "                                                     mean both variables ar fixed\n",
    "        \n",
    "        viscosity               float type           setting value of numerical viscosity\n",
    "        '''\n",
    "        self.number_of_points = number_of_points\n",
    "        self.time_end = time_end\n",
    "        \n",
    "        self.xmin = xmin\n",
    "        self.xmax = xmax\n",
    "        \n",
    "        self.subsonic_inflow = subsonic_inflow\n",
    "        self.subsonic_outflow = subsonic_outflow\n",
    "\n",
    "        self.rho = np.empty(number_of_points+4)\n",
    "        self.rho_u = np.empty(number_of_points+4)\n",
    "\n",
    "        self.u_a = np.empty(number_of_points+4)\n",
    "        self.u_b = np.empty(number_of_points+4)\n",
    "\n",
    "        self.g = np.zeros(number_of_points+4)\n",
    "        \n",
    "        self.dv_a = np.empty(number_of_points+4)\n",
    "        self.dv_b = np.empty(number_of_points+4)\n",
    "        \n",
    "        self.ti = 0.\n",
    "        self.dt = 0.\n",
    "        \n",
    "        self.number_of_output = 50\n",
    "        self.time_output = 0.\n",
    "        self.time_step_output = self.time_end/self.number_of_output\n",
    "        \n",
    "        self.vi1 = vi1\n",
    "        \n",
    "        self.a = sound_speed\n",
    "        self.cfl = cfl\n",
    "        \n",
    "        self.vis = viscosity\n",
    "        self.is_radforce = False\n",
    "        \n",
    "\n",
    "    def grid(self):\n",
    "        ''' \n",
    "        Method fo generating 1D - spherical spatial mesh. Scalars (r) reside at cell centers (termed b),\n",
    "        vectors (ru) at cell interfaces (termed a)\n",
    "        \n",
    "        self.x_a         spatial coordinate zone-faces\n",
    "        self.x_b         spatial coordinate zone-centers\n",
    "        \n",
    "        self.df_a        interface area zone-faces\n",
    "        self.df_a        interface area zone-centers\n",
    "        \n",
    "        self.dv_a        spherical volume zone-faces        \n",
    "        self.dv_b        spherical volume zone-centers\n",
    "        \n",
    "        Spherical volume is volume of the shell between two x-grid points\n",
    "        '''\n",
    "    \n",
    "        step = (self.xmax - self.xmin)/self.number_of_points\n",
    "        self.x_a = np.linspace(self.xmin - 2.0*step,self.xmax+step,self.number_of_points+4)\n",
    "    \n",
    "        start = (self.x_a[0]+self.x_a[1])/2.0\n",
    "        end = (self.x_a[self.number_of_points+2]+self.x_a[self.number_of_points+3])/2.0\n",
    "        self.x_b = np.linspace(start,end+step,self.number_of_points+4)\n",
    "\n",
    "        self.df_a = self.x_a**2.0\n",
    "        self.df_b = self.x_b**2.0\n",
    "    \n",
    "        self.dv_a[1:] = (self.x_b[1:]**3.0-self.x_b[:self.number_of_points+3]**3.0)/3.0\n",
    "        self.dv_a[0] = self.dv_a[1]\n",
    "    \n",
    "        self.dv_b[:self.number_of_points+3] = (self.x_a[1:]**3.0-self.x_a[:self.number_of_points+3]**3.0)/3.0\n",
    "        self.dv_b[self.number_of_points+3] = self.dv_b[self.number_of_points+2]\n",
    "    \n",
    "        return \n",
    "    \n",
    "    def van_leer_rho(self):\n",
    "        '''\n",
    "        \n",
    "        van Leer (1977) advection for density rho (b grid) for 1D\n",
    "\n",
    "        '''\n",
    "        ri = np.zeros(self.number_of_points+4)\n",
    "    \n",
    "        for i in range(2,self.number_of_points+3):\n",
    "        \n",
    "            if self.u_a[i] > 0.:\n",
    "                ii = i - 1\n",
    "            else:\n",
    "                ii = i\n",
    "        \n",
    "            dm = (self.rho[ii]-self.rho[ii-1])/(self.x_b[ii]-self.x_b[ii-1])\n",
    "            dp = (self.rho[ii+1]-self.rho[ii])/(self.x_b[ii+1]-self.x_b[ii])\n",
    "        \n",
    "            dd = dm*dp\n",
    "        \n",
    "            if dd > 0:\n",
    "                vl = 2.0*dd/(dm+dp)\n",
    "            else:\n",
    "                vl = 0.\n",
    "            \n",
    "            ri[i] = self.rho[ii]+vl*(self.x_a[i]-self.x_b[ii]-self.u_a[i]*self.dt/2.0)\n",
    "        \n",
    "        self.rho[2:self.number_of_points+2] = self.rho[2:self.number_of_points+2]-self.dt/self.dv_b[2:self.number_of_points+2]* \\\n",
    "        (ri[3:self.number_of_points+3]*self.u_a[3:self.number_of_points+3]*self.df_a[3:self.number_of_points+3]-\\\n",
    "         ri[2:self.number_of_points+2]*self.u_a[2:self.number_of_points+2]*self.df_a[2:self.number_of_points+2])\n",
    "            \n",
    "        return\n",
    "    \n",
    "    def van_leer_rho_u(self):\n",
    "        '''\n",
    "        \n",
    "        van Leer (1977) advection for momentum density rho_u (a grid) for 1D\n",
    "\n",
    "        '''\n",
    "        rui = np.zeros(self.number_of_points+4)\n",
    "        \n",
    "        for i in range (2,self.number_of_points+2):\n",
    "        \n",
    "            if self.u_b[i] > 0:\n",
    "                ii = i\n",
    "            else:\n",
    "                ii = i + 1\n",
    "        \n",
    "            dm = (self.rho_u[ii]-self.rho_u[ii-1])/(self.x_a[ii]-self.x_a[ii-1])\n",
    "            dp = (self.rho_u[ii+1]-self.rho_u[ii])/(self.x_a[ii+1]-self.x_a[ii])\n",
    "        \n",
    "            dd = dm*dp\n",
    "        \n",
    "            if dd > 0:\n",
    "                vl = 2.*dd/(dm+dp)\n",
    "            else:\n",
    "                vl = 0.\n",
    "        \n",
    "            rui[i] = self.rho_u[ii]+vl*(self.x_b[i]-self.x_a[ii]-self.u_b[i]*self.dt/2.0)\n",
    "        \n",
    "        self.rho_u[3:self.number_of_points+2] = self.rho_u[3:self.number_of_points+2]-self.dt/self.dv_a[3:self.number_of_points+2]* \\\n",
    "        (rui[3:self.number_of_points+2]*self.u_b[3:self.number_of_points+2]*self.df_b[3:self.number_of_points+2]-\\\n",
    "        rui[2:self.number_of_points+1]*self.u_b[2:self.number_of_points+1]*self.df_b[2:self.number_of_points+1])\n",
    "    \n",
    "        return\n",
    "\n",
    "    def boundary(self):\n",
    "    \n",
    "    # Inflow subsonic\n",
    "        if self.subsonic_inflow:\n",
    "            self.rho[1] = self.rho[1]\n",
    "            self.rho_u[2] = self.rho_u[3]\n",
    "        \n",
    "    # Inflow supersonic\n",
    "        else:\n",
    "            rho[1] = rho[1]\n",
    "            rho_u[2] = rho_u[2]\n",
    "    \n",
    "    # Outflow subsonic\n",
    "    \n",
    "        if self.subsonic_outflow:\n",
    "            self.rho[self.number_of_points+2] = self.rho[self.number_of_points+1]\n",
    "            self.rho_u[self.number_of_points+2] = self.rho_u[self.number_of_points+2]\n",
    "        else:\n",
    "            self.rho[self.number_of_points+2] = self.rho[self.number_of_points+1]\n",
    "            self.rho_u[self.number_of_points+2] = self.rho_u[self.number_of_points+1]\n",
    "    \n",
    "        self.rho[0] = self.rho[1]\n",
    "        self.rho[self.number_of_points+3] = self.rho[self.number_of_points+2]\n",
    "    \n",
    "        self.rho_u[1] = self.rho_u[2]\n",
    "        self.rho_u[self.number_of_points+3] = self.rho_u[self.number_of_points+2]\n",
    "\n",
    "        return\n",
    "\n",
    "    def speed(self):\n",
    "        '''\n",
    "    \n",
    "        Linear interpolation of the advection speed to the a,b grid \n",
    "    \n",
    "        '''\n",
    "        self.u_a[2:self.number_of_points+3]=2.0*self.rho_u[2:self.number_of_points+3]/(self.rho[1:self.number_of_points+2]+self.rho[2:self.number_of_points+3])\n",
    "        self.u_b[2:self.number_of_points+2]=(self.u_a[2:self.number_of_points+2]+self.u_a[3:self.number_of_points+3])/2.0\n",
    "    \n",
    "        return\n",
    "    \n",
    "    def clock(self):\n",
    "        '''\n",
    "    \n",
    "        Method for setting time step according to the Courant condition of \n",
    "        stability. Negative Courant number means fixed time step\n",
    "    \n",
    "       dt < = cfl * dx / (u + a)\n",
    "    \n",
    "        '''\n",
    "        if self.cfl < 0.:\n",
    "            self.dt = -self.cfl\n",
    "        else:\n",
    "            dtt = np.empty(self.number_of_points+4)\n",
    "    \n",
    "            dtt[2:self.number_of_points+2] = self.cfl*(self.x_a[3:self.number_of_points+3]-\\\n",
    "                        self.x_a[2:self.number_of_points+2])/(np.abs(self.u_b[2:self.number_of_points+2])+self.a)\n",
    "    \n",
    "            self.dt = np.min(dtt[2:self.number_of_points+2])\n",
    "    \n",
    "        self.ti = self.ti + self.dt\n",
    "    \n",
    "        return\n",
    "\n",
    "    def pressure(self):\n",
    "        b = np.copy(self.rho_u)\n",
    "        b[3:self.number_of_points+2]=self.rho_u[3:self.number_of_points+2]-self.a**2.0*self.dt*\\\n",
    "        (self.rho[3:self.number_of_points+2]-self.rho[2:self.number_of_points+1])/\\\n",
    "        (self.x_b[3:self.number_of_points+2]-self.x_b[2:self.number_of_points+1])\n",
    "        \n",
    "        return b\n",
    "\n",
    "    def gravity(self):\n",
    "        b = np.copy(self.rho_u)\n",
    "        b[3:self.number_of_points+2]=self.rho_u[3:self.number_of_points+2]-self.dt*(self.rho[2:self.number_of_points+1]\\\n",
    "                                        +self.rho[3:self.number_of_points+2])/2.*self.g[3:self.number_of_points+2]\n",
    "        return b\n",
    "\n",
    "    def radforce(self):\n",
    "        b = np.copy(self.rho_u)\n",
    "        rgl = np.empty(self.number_of_points+4)\n",
    "    \n",
    "        rgl[3:self.number_of_points+2] = self.vi1*np.sqrt(0.5*(self.rho[2:self.number_of_points+1]+self.rho[3:self.number_of_points+2])*\\\n",
    "        np.abs(self.u_b[3:self.number_of_points+2]-self.u_b[2:self.number_of_points+1])/(self.x_b[3:self.number_of_points+2]-self.x_b[2:self.number_of_points+1]))\n",
    "    \n",
    "        rgl[3:self.number_of_points+2] = rgl[3:self.number_of_points+2]/self.x_a[3:self.number_of_points+2]**2\n",
    "    \n",
    "        b[3:self.number_of_points+2] =  self.rho_u[3:self.number_of_points+2]+self.dt*rgl[3:self.number_of_points+2]\n",
    "    \n",
    "        return b\n",
    "\n",
    "    def visco(self):\n",
    "        self.vis = 0.0\n",
    "        q = np.empty(number_of_points+4)\n",
    "    \n",
    "        q[2:self.number_of_points+2]=self.rho[2:self.number_of_points+2]*\\\n",
    "        self.vis*np.minimum(0,self.u_a[3:self.number_of_points+3]-self.u_a[2:self.number_of_points+2])**2\n",
    "    \n",
    "        self.rho_u[3:self.number_of_points+2] = self.rho_u[3:self.number_of_points+2]-self.dt*((q[3:self.number_of_points+2]-\\\n",
    "                    q[2:self.number_of_points+1])/(self.x_b[3:self.number_of_points+2]-self.x_b[2:self.number_of_points+1]))\n",
    "        return\n",
    "    \n",
    "    def initial(self,f):\n",
    "    \n",
    "        self.rho, self.rho_u = f\n",
    "        \n",
    "        # Reduction at ghost cell\n",
    "        self.rho[0] = self.rho[1]\n",
    "        self.rho_u[1] = self.rho_u[2]\n",
    "        self.rho[self.number_of_points+3] = self.rho[self.number_of_points+2]\n",
    "        self.rho_u[self.number_of_points+3] = self.rho_u[self.number_of_points+2]\n",
    "        \n",
    "        return \n",
    "    \n",
    "    def setup_gravity(self,g):\n",
    "        \n",
    "        self.g = g\n",
    "        \n",
    "        return \n",
    "\n",
    "    def initial_solar(self):\n",
    "\n",
    "        int1=np.int(self.number_of_points/(2.*self.vi1*self.xmax)-1)\n",
    "        self.rho[:int1+1] = np.exp((1./self.x_b[:int1+1]-1./self.xmin)/self.vi1)\n",
    "    \n",
    "        au1 = self.rho[int1]*self.x_b[int1]**2\n",
    "        self.rho[int1+1:self.number_of_points+3] = au1/self.x_b[int1+1:self.number_of_points+3]**2\n",
    "    \n",
    "        au1 = np.sqrt(2./self.vi1)\n",
    "        self.rho_u[1:self.number_of_points+3]=self.rho[1:self.number_of_points+3]*(0.1+0.1*au1*\\\n",
    "               (self.x_a[1:self.number_of_points+3]-self.xmin)/(self.xmax-self.xmin))\n",
    "    \n",
    "    \n",
    "        self.rho[self.number_of_points+3] = self.rho[self.number_of_points+2]\n",
    "        return self.rho,self.rho_u\n",
    "    \n",
    "    def initial_cak(self):\n",
    "        self.vi2 = 1.0\n",
    "        self.is_radforce = True\n",
    "        c =  np.copy(self.rho)\n",
    "        b = np.copy(self.rho_u)\n",
    "        \n",
    "        b = self.vi2/self.x_a**2\n",
    "        \n",
    "        au1 = 0.0\n",
    "        au2 = 0.0\n",
    "        \n",
    "        for i in range(self.number_of_points+4):\n",
    "            if au1 < self.a:\n",
    "                \n",
    "                au2 = self.x_b[i]\n",
    "                au1 = self.a/10.*np.exp((au2-self.xmin)/self.a**2)\n",
    "                \n",
    "            else:\n",
    "                au1 = self.a+2.*(self.x_b[i]-au2)/(self.xmax-au2)\n",
    "        \n",
    "            c[i] = self.vi2/au1/self.x_b[i]**2\n",
    "            \n",
    "        return c,b\n",
    "    \n",
    "    def setup_gravity_solar(self):\n",
    "        return 1./(self.vi1*self.x_a**2.0)\n",
    "    \n",
    "    def setup_gravity_cak(self):\n",
    "        return 1./self.x_a**2.0\n",
    "\n",
    "    \n",
    "    def store_data_netCDF(self):\n",
    "        print self.ti\n",
    "        return\n",
    "    \n",
    "    def output(self):\n",
    "        if self.ti > self.time_output:\n",
    "            self.store_data_netCDF()\n",
    "            self.time_output = self.time_output + self.time_step_output\n",
    "        if self.ti > self.time_end:\n",
    "            self.is_not_end = False\n",
    "        return \n",
    "            \n",
    "    def print_output(self):\n",
    "            \n",
    "        x = np.empty(self.number_of_points+4)\n",
    "        u = np.empty(self.number_of_points+4)\n",
    "        \n",
    "        x[2:self.number_of_points+2] = self.x_b[2:self.number_of_points+2]\n",
    "        u[2:self.number_of_points+2] = 0.5*(self.rho_u[2:self.number_of_points+2]+self.rho_u[3:self.number_of_points+3])/ \\\n",
    "            (self.rho[2:self.number_of_points+2])\n",
    "\n",
    "        return x[2:self.number_of_points+2],self.rho[2:self.number_of_points+2],u[2:self.number_of_points+2]\n",
    "    \n",
    "    def run(self):\n",
    "\n",
    "        self.ti = 0.\n",
    "        self.is_not_end = True\n",
    "\n",
    "        while self.is_not_end:\n",
    "            \n",
    "            self.speed()\n",
    "            self.clock()\n",
    "            \n",
    "            self.van_leer_rho()\n",
    "            self.van_leer_rho_u()\n",
    "            \n",
    "            self.rho_u = self.pressure()\n",
    "            self.rho_u = self.gravity()\n",
    "            \n",
    "            if self.is_radforce:\n",
    "                self.rho_u = self.radforce()\n",
    "            \n",
    "            self.boundary()\n",
    "            self.output()\n",
    "            self.ti = self.ti + self.dt\n",
    "        return\n",
    "    "
   ]
  },
  {
   "cell_type": "code",
   "execution_count": 28,
   "metadata": {
    "collapsed": false
   },
   "outputs": [],
   "source": [
    "g = Hydro1D(number_of_points=400,time_end=50.,xmin=1.0,xmax=5.0,sound_speed=0.1,cfl=0.35,vi1=2.0)\n",
    "g.grid()"
   ]
  },
  {
   "cell_type": "code",
   "execution_count": 29,
   "metadata": {
    "collapsed": false
   },
   "outputs": [
    {
     "data": {
      "image/png": "[encoded data removed]",
      "text/plain": [
       "<matplotlib.figure.Figure at 0x7f015400a890>"
      ]
     },
     "metadata": {},
     "output_type": "display_data"
    },
    {
     "data": {
      "image/png": "[encoded data removed]",
      "text/plain": [
       "<matplotlib.figure.Figure at 0x7f01540a5050>"
      ]
     },
     "metadata": {},
     "output_type": "display_data"
    }
   ],
   "source": [
    "g.g = g.setup_gravity_cak()\n",
    "g.initial(g.initial_cak())\n",
    "\n",
    "x,rho,vel = g.print_output()\n",
    "\n",
    "plt.plot(x,vel,'.')\n",
    "plt.show()\n",
    "\n",
    "plt.plot(x,rho,'r-')\n",
    "plt.show()"
   ]
  },
  {
   "cell_type": "code",
   "execution_count": 30,
   "metadata": {
    "collapsed": false
   },
   "outputs": [
    {
     "name": "stdout",
     "output_type": "stream",
     "text": [
      "0.00159274080229\n",
      "1.00080406088\n",
      "2.00088217937\n",
      "3.00012876818\n",
      "4.00416710996\n",
      "5.0031261457\n",
      "6.00103514123\n",
      "7.00101743605\n",
      "8.0031678635\n",
      "9.00303075615\n",
      "10.0009595725\n",
      "11.0024141723\n",
      "12.0023727016\n",
      "13.0004447671\n",
      "14.0020792586\n",
      "15.0018592904\n",
      "16.0003287056\n",
      "17.0052487505\n",
      "18.0041221474\n",
      "19.0005886733\n",
      "20.0009056148\n",
      "21.00404609\n",
      "22.0043156288\n",
      "23.0014319333\n",
      "24.0004763639\n",
      "25.001240556\n",
      "26.0035034715\n",
      "27.001582546\n",
      "28.0007874374\n",
      "29.0009673497\n",
      "30.0019889791\n",
      "31.0037333937\n",
      "32.0005841465\n",
      "33.0034603902\n",
      "34.0012556819\n",
      "35.0049172915\n",
      "36.0033458849\n",
      "37.0019919232\n",
      "38.0007979632\n",
      "39.0052308234\n",
      "40.0042049669\n",
      "41.0031955942\n",
      "42.0021630457\n",
      "43.0010710429\n",
      "44.0054043637\n",
      "45.0040957872\n",
      "46.0026359783\n",
      "47.0009992817\n",
      "48.0046762335\n",
      "49.0026156405\n",
      "50.0003128492\n"
     ]
    }
   ],
   "source": [
    "%px \n",
    "g.run()"
   ]
  },
  {
   "cell_type": "code",
   "execution_count": 31,
   "metadata": {
    "collapsed": false
   },
   "outputs": [
    {
     "data": {
      "text/plain": [
       "[<matplotlib.lines.Line2D at 0x7f01542c3410>]"
      ]
     },
     "execution_count": 31,
     "metadata": {},
     "output_type": "execute_result"
    },
    {
     "data": {
      "image/png": "[encoded data removed]",
      "text/plain": [
       "<matplotlib.figure.Figure at 0x7f015400a710>"
      ]
     },
     "metadata": {},
     "output_type": "display_data"
    }
   ],
   "source": [
    "x,rho,u = g.print_output()\n",
    "\n",
    "plt.plot(x,u,'b-')"
   ]
  },
  {
   "cell_type": "code",
   "execution_count": 32,
   "metadata": {
    "collapsed": true
   },
   "outputs": [],
   "source": [
    "g = Hydro1D(number_of_points=100,time_end=50.,xmin=1.0,xmax=10.0,sound_speed=1.0,cfl=0.4,vi1=2./9.)\n",
    "g.grid()"
   ]
  },
  {
   "cell_type": "code",
   "execution_count": 33,
   "metadata": {
    "collapsed": false
   },
   "outputs": [
    {
     "data": {
      "image/png": "[encoded data removed]",
      "text/plain": [
       "<matplotlib.figure.Figure at 0x7f0156374d90>"
      ]
     },
     "metadata": {},
     "output_type": "display_data"
    },
    {
     "data": {
      "image/png": "[encoded data removed]",
      "text/plain": [
       "<matplotlib.figure.Figure at 0x7f0153f9cc90>"
      ]
     },
     "metadata": {},
     "output_type": "display_data"
    }
   ],
   "source": [
    "g.g = g.setup_gravity_solar()\n",
    "g.initial(g.initial_solar())\n",
    "\n",
    "x,rho,vel = g.print_output()\n",
    "\n",
    "plt.plot(x,vel,'.')\n",
    "plt.show()\n",
    "\n",
    "plt.plot(x,rho,'r-')\n",
    "plt.show()"
   ]
  },
  {
   "cell_type": "code",
   "execution_count": 35,
   "metadata": {
    "collapsed": false
   },
   "outputs": [
    {
     "name": "stdout",
     "output_type": "stream",
     "text": [
      "0.0258083507172\n",
      "1.02574250039\n",
      "2.00705867107\n",
      "3.00857499521\n",
      "4.02047009543\n",
      "5.00047447982\n",
      "6.02335673524\n",
      "7.02359578077\n",
      "8.01596719195\n",
      "9.01762213024\n",
      "10.0264824324\n",
      "11.0036321167\n",
      "12.0028098306\n",
      "13.022920359\n",
      "14.0273809024\n",
      "15.0104006915\n",
      "16.0063734696\n",
      "17.0181923245\n",
      "18.0168175356\n",
      "19.0017548816\n",
      "20.023739677\n",
      "21.0216787261\n",
      "22.0233540326\n",
      "23.0032126653\n",
      "24.0128238879\n",
      "25.0017247753\n",
      "26.0194733733\n",
      "27.0177200761\n",
      "28.020129754\n",
      "29.0003900224\n",
      "30.0065452682\n",
      "31.0197453365\n",
      "32.0004770902\n",
      "33.0172409562\n",
      "34.0072028816\n",
      "35.0149953137\n",
      "36.0201301507\n",
      "37.0020263418\n",
      "38.0038958159\n",
      "39.0047532999\n",
      "40.0048698647\n",
      "41.0044411114\n",
      "42.0036093257\n",
      "43.0024787873\n",
      "44.0011264246\n",
      "45.0208521215\n",
      "46.0192103303\n",
      "47.017478277\n",
      "48.0156793227\n",
      "49.0138308572\n",
      "50.0119458086\n"
     ]
    }
   ],
   "source": [
    "%px \n",
    "g.run()"
   ]
  },
  {
   "cell_type": "code",
   "execution_count": 36,
   "metadata": {
    "collapsed": false
   },
   "outputs": [
    {
     "data": {
      "text/plain": [
       "[<matplotlib.lines.Line2D at 0x7f0153e63450>]"
      ]
     },
     "execution_count": 36,
     "metadata": {},
     "output_type": "execute_result"
    },
    {
     "data": {
      "image/png": "[encoded data removed]",
      "text/plain": [
       "<matplotlib.figure.Figure at 0x7f01540d12d0>"
      ]
     },
     "metadata": {},
     "output_type": "display_data"
    }
   ],
   "source": [
    "x,rho,u = g.print_output()\n",
    "\n",
    "plt.plot(x,u,'b-')"
   ]
  },
  {
   "cell_type": "code",
   "execution_count": 34,
   "metadata": {
    "collapsed": false
   },
   "outputs": [
    {
     "name": "stdout",
     "output_type": "stream",
     "text": [
      "Documentation for the profile module can be found \n",
      "in the Python Library Reference, section 'The Python Profiler'.\n"
     ]
    }
   ],
   "source": [
    "import profile; profile.help()"
   ]
  },
  {
   "cell_type": "code",
   "execution_count": null,
   "metadata": {
    "collapsed": true
   },
   "outputs": [],
   "source": []
  }
 ],
 "metadata": {
  "kernelspec": {
   "display_name": "Python 3",
   "language": "python",
   "name": "python3"
  },
  "language_info": {
   "codemirror_mode": {
    "name": "ipython",
    "version": 3
   },
   "file_extension": ".py",
   "mimetype": "text/x-python",
   "name": "python",
   "nbconvert_exporter": "python",
   "pygments_lexer": "ipython3",
   "version": "3.5.1"
  }
 },
 "nbformat": 4,
 "nbformat_minor": 0
}
