{
 "cells": [
  {
   "cell_type": "code",
   "execution_count": 1,
   "metadata": {
    "collapsed": false
   },
   "outputs": [],
   "source": [
    "%matplotlib inline\n",
    "\n",
    "import numpy as np\n",
    "import matplotlib.pylab as plt\n",
    "\n",
    "from IPython.display import Image\n",
    "from IPython.display import display,Math,Latex\n",
    "from IPython.display import HTML"
   ]
  },
  {
   "cell_type": "code",
   "execution_count": 2,
   "metadata": {
    "collapsed": false
   },
   "outputs": [
    {
     "data": {
      "text/html": [
       "<iframe src=http://adsabs.harvard.edu/full/1995ApJS..101..309C width=1200 height=350></iframe>"
      ],
      "text/plain": [
       "<IPython.core.display.HTML object>"
      ]
     },
     "execution_count": 2,
     "metadata": {},
     "output_type": "execute_result"
    }
   ],
   "source": [
    "from IPython.display import HTML\n",
    "HTML('<iframe src=http://adsabs.harvard.edu/full/1995ApJS..101..309C width=1200 height=350></iframe>')"
   ]
  },
  {
   "cell_type": "code",
   "execution_count": 3,
   "metadata": {
    "collapsed": false
   },
   "outputs": [
    {
     "data": {
      "image/png": "[encoded data removed]",
      "text/plain": [
       "<matplotlib.figure.Figure at 0x7f78c54dcba8>"
      ]
     },
     "metadata": {},
     "output_type": "display_data"
    }
   ],
   "source": [
    "x_observe = np.linspace(0,240,1000)\n",
    "\n",
    "A_k = np.array([0.8,0.75,0.5,0.4,0.85])\n",
    "P_k = np.array([9.6,12.,18.,21.6,30.0])\n",
    "phi_k = np.array([0.4,0.15,0.1,0.2,0.25])*2.0*np.pi\n",
    "A0 = 5.0\n",
    "\n",
    "def signal(A_k,P_k,phi_k,A0,x):\n",
    "    \n",
    "    y =np.zeros(np.size(x))\n",
    "\n",
    "    for i in range(np.size(A_k)):\n",
    "        y = y + A_k[i]*np.sin(x*np.pi*2.0/P_k[i]+phi_k[i])\n",
    "        \n",
    "    return y + A0\n",
    "\n",
    "noise = np.random.normal(0.,1./np.sqrt(12.),np.size(x_observe))\n",
    "\n",
    "y_observe = signal(A_k,P_k,phi_k,A0,x_observe) + noise\n",
    "\n",
    "plt.plot(x_observe,y_observe,'.')\n",
    "plt.show()"
   ]
  },
  {
   "cell_type": "code",
   "execution_count": 4,
   "metadata": {
    "collapsed": false
   },
   "outputs": [],
   "source": [
    "# Gaps creation with duration delta time = 24\n",
    "\n",
    "index_list = np.where(np.round(x_observe/24.0) % 2 == 0)\n",
    "x_gaps = np.delete(x_observe,index_list)\n",
    "y_gaps = np.delete(y_observe,index_list)"
   ]
  },
  {
   "cell_type": "code",
   "execution_count": 5,
   "metadata": {
    "collapsed": false
   },
   "outputs": [
    {
     "data": {
      "text/plain": [
       "[<matplotlib.lines.Line2D at 0x7f78c53c7d68>]"
      ]
     },
     "execution_count": 5,
     "metadata": {},
     "output_type": "execute_result"
    },
    {
     "data": {
      "image/png": "[encoded data removed]",
      "text/plain": [
       "<matplotlib.figure.Figure at 0x7f78e059d588>"
      ]
     },
     "metadata": {},
     "output_type": "display_data"
    }
   ],
   "source": [
    "plt.plot(x_gaps,y_gaps,'r.')"
   ]
  },
  {
   "cell_type": "code",
   "execution_count": 6,
   "metadata": {
    "collapsed": false
   },
   "outputs": [
    {
     "ename": "ImportError",
     "evalue": "No module named 'ffnet'",
     "output_type": "error",
     "traceback": [
      "\u001b[1;31m---------------------------------------------------------------------------\u001b[0m",
      "\u001b[1;31mImportError\u001b[0m                               Traceback (most recent call last)",
      "\u001b[1;32m<ipython-input-6-8386f3a0952f>\u001b[0m in \u001b[0;36m<module>\u001b[1;34m()\u001b[0m\n\u001b[1;32m----> 1\u001b[1;33m \u001b[1;32mfrom\u001b[0m \u001b[0mffnet\u001b[0m\u001b[1;33m.\u001b[0m\u001b[0mpikaia\u001b[0m \u001b[1;32mimport\u001b[0m \u001b[0mpikaia\u001b[0m\u001b[1;33m\u001b[0m\u001b[0m\n\u001b[0m\u001b[0;32m      2\u001b[0m \u001b[1;33m\u001b[0m\u001b[0m\n\u001b[0;32m      3\u001b[0m \u001b[1;32mdef\u001b[0m \u001b[0mfitnes\u001b[0m\u001b[1;33m(\u001b[0m\u001b[0mx\u001b[0m\u001b[1;33m)\u001b[0m\u001b[1;33m:\u001b[0m\u001b[1;33m\u001b[0m\u001b[0m\n\u001b[0;32m      4\u001b[0m \u001b[1;33m\u001b[0m\u001b[0m\n\u001b[0;32m      5\u001b[0m     \u001b[0mA_k\u001b[0m \u001b[1;33m=\u001b[0m \u001b[0mx\u001b[0m\u001b[1;33m[\u001b[0m\u001b[1;33m:\u001b[0m\u001b[1;36m7\u001b[0m\u001b[1;33m]\u001b[0m\u001b[1;33m\u001b[0m\u001b[0m\n",
      "\u001b[1;31mImportError\u001b[0m: No module named 'ffnet'"
     ]
    }
   ],
   "source": [
    "from ffnet.pikaia import pikaia\n",
    "\n",
    "def fitnes(x):\n",
    "    \n",
    "    A_k = x[:7]\n",
    "    P_k = x[7:14]*100.0\n",
    "    phi_k = x[14:21]\n",
    "    A0 = x[21]*100.0\n",
    "    \n",
    "    y_model = signal(A_k,P_k,phi_k,A0,x_gaps)\n",
    "    sigma = 1./np.sqrt(12.)\n",
    "    \n",
    "    fit_value = np.sum((y_model - y_gaps)**2/sigma)\n",
    "    \n",
    "    return 1./fit_value"
   ]
  },
  {
   "cell_type": "code",
   "execution_count": 87,
   "metadata": {
    "collapsed": false
   },
   "outputs": [],
   "source": [
    "n = 22\n",
    "parameters = pikaia(fitnes, n, individuals=200, generations=400, digits=5, crossover=0.85, mutation=2, reproduction = 1, elitism = 1)"
   ]
  },
  {
   "cell_type": "code",
   "execution_count": 88,
   "metadata": {
    "collapsed": false
   },
   "outputs": [
    {
     "name": "stdout",
     "output_type": "stream",
     "text": [
      "[ 21.23200035  19.52199936  28.99799919  17.86499977  11.98399925\n",
      "   8.0369997   97.56999969]\n"
     ]
    }
   ],
   "source": [
    "print parameters[7:14]*100.0"
   ]
  },
  {
   "cell_type": "code",
   "execution_count": 89,
   "metadata": {
    "collapsed": false
   },
   "outputs": [
    {
     "name": "stdout",
     "output_type": "stream",
     "text": [
      "[ 0.52438998  0.25781     0.70704001  0.60110998  0.81967998  0.51852\n",
      "  0.14714   ]\n"
     ]
    }
   ],
   "source": [
    "print parameters[:7]"
   ]
  },
  {
   "cell_type": "code",
   "execution_count": 90,
   "metadata": {
    "collapsed": false
   },
   "outputs": [
    {
     "name": "stdout",
     "output_type": "stream",
     "text": [
      "0.04965\n"
     ]
    }
   ],
   "source": [
    "print parameters[21]"
   ]
  },
  {
   "cell_type": "code",
   "execution_count": null,
   "metadata": {
    "collapsed": true
   },
   "outputs": [],
   "source": []
  }
 ],
 "metadata": {
  "kernelspec": {
   "display_name": "Python 3",
   "language": "python",
   "name": "python3"
  },
  "language_info": {
   "codemirror_mode": {
    "name": "ipython",
    "version": 3
   },
   "file_extension": ".py",
   "mimetype": "text/x-python",
   "name": "python",
   "nbconvert_exporter": "python",
   "pygments_lexer": "ipython3",
   "version": "3.5.1"
  }
 },
 "nbformat": 4,
 "nbformat_minor": 0
}
