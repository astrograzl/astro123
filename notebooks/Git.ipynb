{
 "cells": [
  {
   "cell_type": "markdown",
   "metadata": {},
   "source": [
    "# Začínáme používat `git`"
   ]
  },
  {
   "cell_type": "markdown",
   "metadata": {},
   "source": [
    "> **Git** je distribuovaný [systém správy verzí](https://cs.wikipedie.org/wiki/Verzování) vytvořený [Linusem Torvaldsem](https://cs.wikipedie.org/wiki/Linus_Torvalds), původně pro vývoj jádra [Linuxu](https://cs.wikipedie.org/wiki/Linux).\n",
    "<!-- http://cs.wikipedia.org/wiki/Git -->"
   ]
  },
  {
   "cell_type": "markdown",
   "metadata": {
    "collapsed": true
   },
   "source": [
    "Používání verzovacího systému Git se ve svém principu nikterak výrazně neliší od používání obdobných v současnosti populárních sociálních sítí. Jako je například *Facebook*. **GitHub** je jednou ze sociálních sítí zaměřených na sdílení zdrojových kódů průběžně vyvíjených programů. Prvním krokem v tvém seznámovacím procesu s `git`em by měla být návštěva jeho webové prezentace na adrese <https://git-scm.com/>, kde nalezneš veškeré potřebné informace, které budeš nadále potřebovat k jeho instalaci a používání. Ty se tam nacházejí jednak v podobě on-line manuálových stránek, tak i videí či elektronické knihy. Její český překlad plný kouzelných příkazů je zdarma dostupný v edici knih správce domény [NIC.CZ](https://knihy.nic.cz/)."
   ]
  },
  {
   "cell_type": "markdown",
   "metadata": {},
   "source": [
    "> <img src=\"https://knihy.nic.cz/files/nic/img/thumbnail_progit.png\" alt=\"Pro Git\" align=\"right\"/>\n",
    "> **Pro Git**. *Scott Chacon*\n",
    "> je popularizátorem systému správy verzí Git a pracuje také jako vývojář v Ruby na projektu GitHub.com Git je distribuovaný systém pro správu verzí, který se používá zejména při vývoji svobodného a open source softwaru. Git si klade za cíl být rychlým a efektivním nástrojem pro správu verzí. V knize se čtenář seznámí jak se stát rychlým a efektivním při jeho používání. Seznámí se nejen s principy používání, ale také s detaily jak Git funguje interně nebo s možnostmi, které nabízejí některé další doplňkové nástroje."
   ]
  },
  {
   "cell_type": "markdown",
   "metadata": {},
   "source": [
    "![git@metacentrum](../screenshots/metacentrum_2015-05-14_00-33-22.png \"Git běžící v prostředí MetaCentra\")"
   ]
  },
  {
   "cell_type": "markdown",
   "metadata": {},
   "source": [
    "První věcí, kterou bys po úspěšné instalaci `git`u měl udělat, je nastavení svých osobních údajů, podle nichž budou identifikovány všechny tvoje příspěvky napříč virtuálními komunitami."
   ]
  },
  {
   "cell_type": "markdown",
   "metadata": {},
   "source": [
    "```bash\n",
    "$ git config --global user.name \"John Doe\"\n",
    "$ git config --global user.email johndoe@example.com\n",
    "```"
   ]
  },
  {
   "cell_type": "markdown",
   "metadata": {},
   "source": [
    "Pro efektivnější používání `git`u z příkazové řádky terminálu, je užitečné nastavit přinejmenším svůj oblíbený textový editor, jako výchozí, pro vytváření zpráv, při odesílání příspěvků do systému správy verzí. Například takto:"
   ]
  },
  {
   "cell_type": "markdown",
   "metadata": {},
   "source": [
    "```bash\n",
    "$ git config --global core.editor nano\n",
    "```"
   ]
  },
  {
   "cell_type": "markdown",
   "metadata": {},
   "source": [
    "Nyní již nastal čas vytvořit svůj..."
   ]
  },
  {
   "cell_type": "markdown",
   "metadata": {},
   "source": [
    "## 1. projekt"
   ]
  },
  {
   "cell_type": "markdown",
   "metadata": {},
   "source": [
    "* vytvoř nový adresář pro svůj projekt v aktuálním pracovním adresáři"
   ]
  },
  {
   "cell_type": "markdown",
   "metadata": {},
   "source": [
    "```bash\n",
    "$ mkdir projekt\n",
    "```"
   ]
  },
  {
   "cell_type": "markdown",
   "metadata": {},
   "source": [
    "* přejdi do tohoto adresáře"
   ]
  },
  {
   "cell_type": "markdown",
   "metadata": {},
   "source": [
    "```bash\n",
    "$ cd projekt\n",
    "```"
   ]
  },
  {
   "cell_type": "markdown",
   "metadata": {},
   "source": [
    "* inicializuj nový projekt pro git"
   ]
  },
  {
   "cell_type": "markdown",
   "metadata": {},
   "source": [
    "```bash\n",
    "$ git init\n",
    "```"
   ]
  },
  {
   "cell_type": "markdown",
   "metadata": {},
   "source": [
    "* vytvoř (prozatím) prázdný soubor README.md"
   ]
  },
  {
   "cell_type": "markdown",
   "metadata": {},
   "source": [
    "```bash\n",
    "$ touch README.md\n",
    "```"
   ]
  },
  {
   "cell_type": "markdown",
   "metadata": {},
   "source": [
    "* přidej tento nově vytvořený soubor do systému správy verzí"
   ]
  },
  {
   "cell_type": "markdown",
   "metadata": {},
   "source": [
    "```bash\n",
    "$ git add README.md\n",
    "```"
   ]
  },
  {
   "cell_type": "markdown",
   "metadata": {},
   "source": [
    "Při editaci souboru `README.md` ve svém oblíbeném textovém editoru měj na mysli, že tento soubor bude první a možná taky jediný soubor, který si náhodný návštěvník tvého projektu alespoň zobrazí. Tvoř jej proto tak, aby byl zajímavý již od prvního pohledu. Pro strukturování textu můžeš s výhodou použít jednoduchý formát [Markdown](https://help.github.com/articles/markdown-basics/). Ten vychází z léty ověřených dobrých praktik při psaní e-m@ilových zpráv. Jeho jednoduchá syntaxe umožnuje rychlé psaní dokumentace a automatický export do dalších formátu. Ostatně jsou v něm napsány i celá tyto skripta ve své původní podobě."
   ]
  },
  {
   "cell_type": "markdown",
   "metadata": {},
   "source": [
    "Jsi-li spokojen se současnou podobou souboru `README.md` nezapoň jej odeslat do systému správy verzí příkazem"
   ]
  },
  {
   "cell_type": "markdown",
   "metadata": {},
   "source": [
    "```bash\n",
    "$ git commit README.md\n",
    "```"
   ]
  },
  {
   "cell_type": "markdown",
   "metadata": {},
   "source": [
    "na čež se spustí tebou zvolený editor a budeš vyzván k sepsání krátké zprávy osvětlující provedené změny. Tuto zprávu bude číst tvé budoucí *já*, tedy *ty*, buď tedy k sobě ohleduplný a zanech si nějakou smysluplnou zprávu."
   ]
  },
  {
   "cell_type": "markdown",
   "metadata": {},
   "source": [
    "Pokud jsi tak ještě neučinil, vytvoř si nový cloudový repozitář pomocí webové služby [GitHub](https://github.com/), nebo [Bitbucket](https://bitbucket.org/) a následuj instrukce, které ti přesně napovídají, jak jej propojit s tvým lokálním projektem."
   ]
  },
  {
   "cell_type": "markdown",
   "metadata": {},
   "source": [
    "Posledním krokem, který je potřeba udělat pro publikování tvého projektu on-line v síti Internet, včetně hostorie úpravy zdrojových kódů, je jeho odeslání do vzdáleného repozitáře. Příkaz, který má toto na starosti vypadá povětšinou následovně:"
   ]
  },
  {
   "cell_type": "markdown",
   "metadata": {},
   "source": [
    "```bash\n",
    "$ git push\n",
    "```"
   ]
  },
  {
   "cell_type": "markdown",
   "metadata": {},
   "source": [
    "Aktualizaci své lokální verze vůči vzdálenému repozitáři provedeš příkazem"
   ]
  },
  {
   "cell_type": "markdown",
   "metadata": {},
   "source": [
    "```bash\n",
    "$ git pull\n",
    "```"
   ]
  },
  {
   "cell_type": "markdown",
   "metadata": {},
   "source": [
    "Záznam o posledních provedených změnách v lidsky čitelné podobě získáš příkazem"
   ]
  },
  {
   "cell_type": "markdown",
   "metadata": {},
   "source": [
    "```bash\n",
    "$ git log\n",
    "```"
   ]
  },
  {
   "cell_type": "markdown",
   "metadata": {},
   "source": [
    "Strojově čitelný výpis změn ve zdrojovém kódu můžeš zobrazit zadáním příkazu"
   ]
  },
  {
   "cell_type": "markdown",
   "metadata": {},
   "source": [
    "```bash\n",
    "$ git diff\n",
    "```"
   ]
  },
  {
   "cell_type": "markdown",
   "metadata": {},
   "source": [
    "Detailní nápovědu ke všem příkazům `git`u získáš po spuštění `git`u s parametrem `help`, tedy takto"
   ]
  },
  {
   "cell_type": "markdown",
   "metadata": {},
   "source": [
    "```bash\n",
    "$ git --help\n",
    "```"
   ]
  },
  {
   "cell_type": "raw",
   "metadata": {},
   "source": [
    "usage: git [--version] [--help] [-C <path>] [-c name=value]\n",
    "           [--exec-path[=<path>]] [--html-path] [--man-path] [--info-path]\n",
    "           [-p | --paginate | --no-pager] [--no-replace-objects] [--bare]\n",
    "           [--git-dir=<path>] [--work-tree=<path>] [--namespace=<name>]\n",
    "           <command> [<args>]\n",
    "\n",
    "The most commonly used git commands are:\n",
    "   add        Add file contents to the index\n",
    "   bisect     Find by binary search the change that introduced a bug\n",
    "   branch     List, create, or delete branches\n",
    "   checkout   Checkout a branch or paths to the working tree\n",
    "   clone      Clone a repository into a new directory\n",
    "   commit     Record changes to the repository\n",
    "   diff       Show changes between commits, commit and working tree, etc\n",
    "   fetch      Download objects and refs from another repository\n",
    "   grep       Print lines matching a pattern\n",
    "   init       Create an empty Git repository or reinitialize an existing one\n",
    "   log        Show commit logs\n",
    "   merge      Join two or more development histories together\n",
    "   mv         Move or rename a file, a directory, or a symlink\n",
    "   pull       Fetch from and integrate with another repository or a local branch\n",
    "   push       Update remote refs along with associated objects\n",
    "   rebase     Forward-port local commits to the updated upstream head\n",
    "   reset      Reset current HEAD to the specified state\n",
    "   rm         Remove files from the working tree and from the index\n",
    "   show       Show various types of objects\n",
    "   status     Show the working tree status\n",
    "   tag        Create, list, delete or verify a tag object signed with GPG\n",
    "\n",
    "'git help -a' and 'git help -g' list available subcommands and some\n",
    "concept guides. See 'git help <command>' or 'git help <concept>'\n",
    "to read about a specific subcommand or concept."
   ]
  },
  {
   "cell_type": "markdown",
   "metadata": {},
   "source": [
    "Věnuj taky zvýšenou pozornost výpisům, které `git` poskutyje při uživatelově chybně zadaném příkazu, i v nich se ukrývá často prospěšná nápověda."
   ]
  },
  {
   "cell_type": "markdown",
   "metadata": {},
   "source": [
    "```bash\n",
    "$ git comit\n",
    "```"
   ]
  },
  {
   "cell_type": "raw",
   "metadata": {},
   "source": [
    "git: 'comit' is not a git command. See 'git --help'.\n",
    "\n",
    "Did you mean this?\n",
    "\tcommit"
   ]
  }
 ],
 "metadata": {
  "kernelspec": {
   "display_name": "Python 3",
   "language": "python",
   "name": "python3"
  },
  "language_info": {
   "codemirror_mode": {
    "name": "ipython",
    "version": 3
   },
   "file_extension": ".py",
   "mimetype": "text/x-python",
   "name": "python",
   "nbconvert_exporter": "python",
   "pygments_lexer": "ipython3",
   "version": "3.4.3"
  }
 },
 "nbformat": 4,
 "nbformat_minor": 0
}
