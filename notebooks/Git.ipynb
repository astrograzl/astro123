{
 "cells": [
  {
   "cell_type": "markdown",
   "metadata": {},
   "source": [
    "# Jak na GIT\n",
    "\n",
    "<!-- https://git-scm.com/images/branching-illustration@2x.png -->\n",
    "![Branching illustration](images/branching-illustration@2x.png)\n",
    "\n",
    "**Git** je distribuovaný systém správy verzí vytvořený Linusem Torvaldsem, původně pro vývoj jádra Linuxu. Pokud ti na téhle větě není něco jasného, zeptej se [Wiki](https://cs.wikipedia.org/wiki/Git), ze které jsem jí prostě zkopíroval ;-) Nebo si rovnou prohlédni jeho webovou prezentaci na adrese **<https://git-scm.com/>**, z jejíhož popředí pochází i úvodní obrázek.\n",
    "\n",
    "Právě tam nalezneš instrukce, jak Git bezplatně a legálně získat i rady jak jej nainstalovat pod svým operačním systémem. Pro rychlé seznámení jsou v rámci obsáhlé dokumentace k dispozici i krátké instruktážní videa, či on-line trenažér pro okamžité vyzkoušení."
   ]
  },
  {
   "cell_type": "markdown",
   "metadata": {},
   "source": [
    "## Verzování \n",
    "\n",
    "Takový vývoj, jak už název sám naznačuje je dynamický proces, při němž nezávislí jedinci z celého světa tvořící otevřenou komunitu postupně upravují určité dokumenty. Ať už se jedná o zdrojové kódy numerických simulací, pomocné skripty pro grafickou prezentaci výsledků, podklady pro inovativní článek v prestižním vědeckém časopise, nebo jen interaktivní webovou prezentaci pro praktický tutoriál na konferenci. Aby z toho nebyl úplný chaos, je třeba jejich práci efektivně řídit. A právě k tomu účelu se víc než skvěle hodí systém pro správu verzí. A protože ve verzích bývá často guláš, je dobré vědět s jakou konkrétní verzi daného programu právě pracuješ.\n",
    "\n",
    "```bash\n",
    "$ git --version\n",
    "git version 2.6.4\n",
    "```\n",
    "\n",
    "V zájmu reprodukovatelnosti vědeckého bádání je proto vhodné uvádět i čísla verzí programového vybavení použitého při vývoji numerických simulací i pro dodatečnou analýzu jejich výsledků. Pro usnadnění tohoto procesu připravil *Robert Johansson*, autor unikátního studijního materiálu [**Lectures on scientific computing with Python**](https://github.com/jrjohansson/scientific-python-lectures), rozšíření pro Jupyter notebook `%version_information`. To lze pohodlně nainstalovat standardním postupem\n",
    "\n",
    "```bash\n",
    "$ pip install version_information\n",
    "```\n",
    "\n",
    "Jeho použití v Jupyter notebooku je pak záležitostí jen dvou magických příkazů"
   ]
  },
  {
   "cell_type": "code",
   "execution_count": 1,
   "metadata": {
    "collapsed": false
   },
   "outputs": [
    {
     "data": {
      "application/json": {
       "Software versions": [
        {
         "module": "Python",
         "version": "3.5.1 64bit [GCC 5.2.0]"
        },
        {
         "module": "IPython",
         "version": "4.0.0"
        },
        {
         "module": "OS",
         "version": "Linux 4.2.5 1 ARCH x86_64 with arch"
        },
        {
         "module": "numpy",
         "version": "1.10.1"
        },
        {
         "module": "scipy",
         "version": "0.16.1"
        },
        {
         "module": "matplotlib",
         "version": "1.5.0"
        }
       ]
      },
      "text/html": [
       "<table><tr><th>Software</th><th>Version</th></tr><tr><td>Python</td><td>3.5.1 64bit [GCC 5.2.0]</td></tr><tr><td>IPython</td><td>4.0.0</td></tr><tr><td>OS</td><td>Linux 4.2.5 1 ARCH x86_64 with arch</td></tr><tr><td>numpy</td><td>1.10.1</td></tr><tr><td>scipy</td><td>0.16.1</td></tr><tr><td>matplotlib</td><td>1.5.0</td></tr><tr><td colspan='2'>Sat Dec 12 18:35:49 2015 CET</td></tr></table>"
      ],
      "text/latex": [
       "\\begin{tabular}{|l|l|}\\hline\n",
       "{\\bf Software} & {\\bf Version} \\\\ \\hline\\hline\n",
       "Python & 3.5.1 64bit [GCC 5.2.0] \\\\ \\hline\n",
       "IPython & 4.0.0 \\\\ \\hline\n",
       "OS & Linux 4.2.5 1 ARCH x86\\_64 with arch \\\\ \\hline\n",
       "numpy & 1.10.1 \\\\ \\hline\n",
       "scipy & 0.16.1 \\\\ \\hline\n",
       "matplotlib & 1.5.0 \\\\ \\hline\n",
       "\\hline \\multicolumn{2}{|l|}{Sat Dec 12 18:35:49 2015 CET} \\\\ \\hline\n",
       "\\end{tabular}\n"
      ],
      "text/plain": [
       "Software versions\n",
       "Python 3.5.1 64bit [GCC 5.2.0]\n",
       "IPython 4.0.0\n",
       "OS Linux 4.2.5 1 ARCH x86_64 with arch\n",
       "numpy 1.10.1\n",
       "scipy 0.16.1\n",
       "matplotlib 1.5.0\n",
       "Sat Dec 12 18:35:49 2015 CET"
      ]
     },
     "execution_count": 1,
     "metadata": {},
     "output_type": "execute_result"
    }
   ],
   "source": [
    "%load_ext version_information\n",
    "%version_information numpy, scipy, matplotlib"
   ]
  },
  {
   "cell_type": "markdown",
   "metadata": {},
   "source": [
    "## Nápověda\n",
    "\n",
    "Tak jako většina slušně vychovaných programů, ani `git` není vyjímkou v přijímání přepínače `--help`, který zaručí vypsání stručné nápovědy ohledně jeho použití. Více detailů o jednotlivých příkazech si můžeš přečíst třeba v manuálových stránkách.\n",
    "\n",
    "```bash\n",
    "$ git --help\n",
    "\n",
    "usage: git [--version] [--help] [-C <path>] [-c name=value]\n",
    "           [--exec-path[=<path>]] [--html-path] [--man-path] [--info-path]\n",
    "           [-p | --paginate | --no-pager] [--no-replace-objects] [--bare]\n",
    "           [--git-dir=<path>] [--work-tree=<path>] [--namespace=<name>]\n",
    "           <command> [<args>]\n",
    "\n",
    "These are common Git commands used in various situations:\n",
    "\n",
    "start a working area (see also: git help tutorial)\n",
    "   clone      Clone a repository into a new directory\n",
    "   init       Create an empty Git repository or reinitialize an existing one\n",
    "\n",
    "work on the current change (see also: git help everyday)\n",
    "   add        Add file contents to the index\n",
    "   mv         Move or rename a file, a directory, or a symlink\n",
    "   reset      Reset current HEAD to the specified state\n",
    "   rm         Remove files from the working tree and from the index\n",
    "\n",
    "examine the history and state (see also: git help revisions)\n",
    "   bisect     Use binary search to find the commit that introduced a bug\n",
    "   grep       Print lines matching a pattern\n",
    "   log        Show commit logs\n",
    "   show       Show various types of objects\n",
    "   status     Show the working tree status\n",
    "\n",
    "grow, mark and tweak your common history\n",
    "   branch     List, create, or delete branches\n",
    "   checkout   Switch branches or restore working tree files\n",
    "   commit     Record changes to the repository\n",
    "   diff       Show changes between commits, commit and working tree, etc\n",
    "   merge      Join two or more development histories together\n",
    "   rebase     Forward-port local commits to the updated upstream head\n",
    "   tag        Create, list, delete or verify a tag object signed with GPG\n",
    "\n",
    "collaborate (see also: git help workflows)\n",
    "   fetch      Download objects and refs from another repository\n",
    "   pull       Fetch from and integrate with another repository or a local branch\n",
    "   push       Update remote refs along with associated objects\n",
    "\n",
    "'git help -a' and 'git help -g' list available subcommands and some\n",
    "concept guides. See 'git help <command>' or 'git help <concept>'\n",
    "to read about a specific subcommand or concept.\n",
    "```\n",
    "\n",
    "Samozřejmě nechybí ani automatické doplňování argumentů příkazu, nebo podbízivé rady při nechtěném překlepu.\n",
    "\n",
    "```bash\n",
    "$ git tak\n",
    "\n",
    "git: 'tak' is not a git command. See 'git --help'.\n",
    "\n",
    "Did you mean this?\n",
    "\ttag\n",
    "```"
   ]
  },
  {
   "cell_type": "markdown",
   "metadata": {},
   "source": [
    "## Nastavení\n",
    "\n",
    "První věcí, kterou bys pro úspěšné použití `git`u měl udělat, je vyplnění svých kontaktních údajů, podle nichž budou moci býti identifikovány všechny tvoje příspěvky napříč virtuálními komunitami a to až do konce existence Internetu. Jedině tak tvé dobré skutky budou moci býti po zásluze odměněny.\n",
    "\n",
    "```bash\n",
    "$ git config --global user.name \"John Doe\"\n",
    "$ git config --global user.email johndoe@example.com\n",
    "```\n",
    "\n",
    "Pro efektnější používání `git`u z příkazové řádky terminálu, kterému se budeme dále věnovat, je užitečné nastavit přinejmenším svůj oblíbený textový editor, ve kterém rád píšeš.\n",
    "\n",
    "```bash\n",
    "$ git config --global core.editor nano\n",
    "```\n",
    "\n",
    "Nyní již nastal čas vytvořit si svůj první *repozitář*. To je místo, ideálně někde v *cloudu*, kde budou tvé dokumenty bezpečně a zároveň přístupně uloženy včetně historie jejich změn, ať už se na nich podílel kdokoliv. To je totiž přesně to, co `git` dělá. Ukládá historii změn dokumentů. A tím tajemným místem je **GitHub**. Momentálně asi nejpopulárnější ze sociálních sítí zaměřených na sdílení zdrojových kódů průběžně vyvíjených programů. Navíc tam můžeš s dalšími kolegy debatovat nad společně tvořeným dílem v příjemném prostředí moderní webové aplikace."
   ]
  },
  {
   "cell_type": "markdown",
   "metadata": {},
   "source": [
    "## Repozitář\n",
    "\n",
    "Nový projekt můžeš začít různými způsoby. Tím nejsnažším je kliknutí na ikonu [**+**](https://github.com/new) hnedle vedle tvého avataru na stránce GitHubu. Ovšem to jen za předpokladu, že jsi jeho registrovaným uživatelem a jsi přihlášený ke svému účtu. Pak už jen stačí následovat přímočaré instrukce, které ti ponouká. Další možností, pokud nechceš začínat vyloženě od nuly, je tak zvané *forknutí* již existujícího repozitáře, i na to najdeš příslušné tlačítko přímo na stránce daného repozitáře. Pak už jen stačí, si vybraný repozitář *naklonovat*, což ač to zní kdo ví jak děsivě, je to jen jiný výraz pro stažení...\n",
    "\n",
    "```bash\n",
    "$ git clone https://github.com/<GITHUBNAME>/astro123.git\n",
    "```\n",
    "\n",
    "Pokud chceš již stažený repozitář aktualizovat, použij příkaz\n",
    "\n",
    "```bash\n",
    "$ git pull\n",
    "```\n",
    "\n",
    "Tím jsi právě získal svou vlastní a aktuální kopii. Co s ní budeš dál dělat je už jen na tobě. Pokud se ale rozhodneš řešit přiložené úlohy, což je i jednou z nutných podmínek k získání zápočtu a připuštění ke zkoušce, může ti být ku prospěchu pár dobře míněných rad.\n",
    "\n",
    "### Větvení\n",
    "\n",
    "Nejen že `git` umožňuje cestování do minulosti, ale zároveň je možné se s ním pohybovat i v paralerním prostoru, tomu se říká *větve* a představa košatého stromu je tady zcela oprávněná. Novou větev pojmenovanu ideálně podle svého uča vytvoříš příkazem\n",
    "\n",
    "```bash\n",
    "$ git branch 123456\n",
    "```\n",
    "\n",
    "Přejít do ní můžeš za pomoci příkazu\n",
    "\n",
    "```bash\n",
    "$ git checkout 123456\n",
    "```\n",
    "\n",
    "Všechny změny, které od této chvíle provedeš se dějí v oddělené větvi mimo tu hlavní  zvanou *master*. A tak by to mělo i zůstat, že si pro každou plánovanou změnu, vytvoříš novou pracovní kopii.\n",
    "\n",
    "### Příspěvky\n",
    "\n",
    "Nyní již můžeš do správy verzovacího systému `git` přidat soubor s řešením, který jsi sám vytvořil.\n",
    "\n",
    "```bash\n",
    "$ git add solutions/Solution.ipynb\n",
    "```\n",
    "\n",
    "O aktuálním stavu repozitáře, se můžeš přesvědčit příkazem\n",
    "\n",
    "```bash\n",
    "$ git status\n",
    "```\n",
    "\n",
    "a neméně užitečný je i příkaz pro zobrazení historických záznamů\n",
    "\n",
    "```bash\n",
    "$ git log\n",
    "```\n",
    "\n",
    "Teď nastal čas připrav příspěvek se stručnou zprávou, která se odešlě spolu s tebou provedenými změnami. Ten piš tak, jako kdyby jsi někomu posílal e-mail s přílohou. Mysli při tom na to, že ho bude číst nejenom tvé budoucí *já*, tak se prosím snaž, ať alespoň trochu dává smysl.\n",
    "\n",
    "```bash\n",
    "$ git commit\n",
    "```\n",
    "\n",
    "Nyní už jen stačí odeslat příspěvek do vzdáleného repozitáře.\n",
    "\n",
    "```bash\n",
    "$ git push origin 123456\n",
    "```\n",
    "\n",
    "Na závěr, zpátky na webové stránce svého repozitáře na GitHubu, vytvoř požadavek na přetažení do originálního repozitáře. A vyčkej odpovědi od jeho správce.\n",
    "\n",
    "Pokud jsi se dostal až sem, tak ti blahopřeji. Právě si zvládl ovládnout technologii, která ti umožní podílet se na zajímavých projektech ve společnosti celoplanetárního vědeckého týmu."
   ]
  },
  {
   "cell_type": "markdown",
   "metadata": {},
   "source": [
    "## Odměna\n",
    "\n",
    "Pro vášnivého čtenáře si dovolim doporučit i jednu knihu, na takové to domácí čtení při dlouhých zimních večerech. Dostupná je i v českém překladu a elektronickou verzi si můžes stáhnout zdarma z edice knih správce České národní domény [CZ.NIC](https://knihy.nic.cz/).\n",
    "\n",
    "<!-- https://knihy.nic.cz/files/nic/img/thumbnail_progit.png -->\n",
    "> <img src=\"images/thumbnail_progit.png\" alt=\"Pro Git\" align=\"right\"/>\n",
    "> **Pro Git**. *Scott Chacon*\n",
    "> je popularizátorem systému správy verzí Git a pracuje také jako vývojář v Ruby na projektu GitHub.com Git je distribuovaný systém pro správu verzí, který se používá zejména při vývoji svobodného a open source softwaru. Git si klade za cíl být rychlým a efektivním nástrojem pro správu verzí. V knize se čtenář seznámí jak se stát rychlým a efektivním při jeho používání. Seznámí se nejen s principy používání, ale také s detaily jak Git funguje interně nebo s možnostmi, které nabízejí některé další doplňkové nástroje."
   ]
  }
 ],
 "metadata": {
  "kernelspec": {
   "display_name": "Python 3",
   "language": "python",
   "name": "python3"
  },
  "language_info": {
   "codemirror_mode": {
    "name": "ipython",
    "version": 3
   },
   "file_extension": ".py",
   "mimetype": "text/x-python",
   "name": "python",
   "nbconvert_exporter": "python",
   "pygments_lexer": "ipython3",
   "version": "3.5.1"
  }
 },
 "nbformat": 4,
 "nbformat_minor": 0
}
