{
 "cells": [
  {
   "cell_type": "markdown",
   "metadata": {},
   "source": [
    "## Fitování multiperiodického signalu s šumem  ##"
   ]
  },
  {
   "cell_type": "code",
   "execution_count": 51,
   "metadata": {
    "collapsed": false
   },
   "outputs": [],
   "source": [
    "%matplotlib inline\n",
    "\n",
    "import numpy as np\n",
    "import matplotlib.pylab as plt\n",
    "\n",
    "from IPython.display import Image\n",
    "from IPython.display import display,Math,Latex\n",
    "from IPython.display import HTML\n"
   ]
  },
  {
   "cell_type": "markdown",
   "metadata": {},
   "source": [
    "Jeden z nejčastějších úkolů spočívá v proložení modelu naměřenými daty a to nejen v astronomii.\n",
    "Následující příklad sleduje postup uveřejněný v článku [Charbonneau](http://articles.adsabs.harvard.edu/full/1995ApJS..101..309C) jako jeden z demonstračních příkladů užití genetického algoritmu v praxi."
   ]
  },
  {
   "cell_type": "code",
   "execution_count": 52,
   "metadata": {
    "collapsed": false
   },
   "outputs": [
    {
     "data": {
      "text/html": [
       "<iframe src=http://adsabs.harvard.edu/full/1995ApJS..101..309C width=1200 height=350></iframe>"
      ],
      "text/plain": [
       "<IPython.core.display.HTML object>"
      ]
     },
     "execution_count": 52,
     "metadata": {},
     "output_type": "execute_result"
    }
   ],
   "source": [
    "from IPython.display import HTML\n",
    "HTML('<iframe src=http://adsabs.harvard.edu/full/1995ApJS..101..309C width=1200 height=350></iframe>')"
   ]
  },
  {
   "cell_type": "markdown",
   "metadata": {},
   "source": [
    "Uvažme multiperiodický signál, který je definován $N$-násobnou trojicí čísel $(A_k,P_k,\\varphi_k)$ a jednou konstantou $A_0$. Celkově máme tedy $3N-1$. Namodelujeme si syntetická data s použitím vztahu\n",
    "\n",
    "$$\n",
    "f(t) = A_0 + \\sum_{k=1}^{N} A_k \\sin{(\\frac{2\\pi t}{P_k}+\\varphi_k)}\n",
    "$$\n",
    "\n",
    "pro zvolené hodnoty $N=5$, $A_0 = 5$ a\n",
    "\n",
    "$$\n",
    "A_k = [0.8,0.75,0.5,0.4,0.85],\n",
    "$$\n",
    "\n",
    "$$\n",
    "P_k=[9.6,12.,18.,21.6,30.0],\n",
    "$$\n",
    "\n",
    "$$\n",
    "\\varphi_k=2\\pi([0.4,0.15,0.1,0.2,0.25])\n",
    "$$\n",
    "\n",
    "Časový interval uvažujeme $t = 0\\dots240$. K syntetickému signálu přidáme také umělý šum s hladinou úrovně šumu $\\sigma = 1/\\sqrt{12}$."
   ]
  },
  {
   "cell_type": "code",
   "execution_count": 55,
   "metadata": {
    "collapsed": false
   },
   "outputs": [],
   "source": [
    "x_observe = np.linspace(0,240,1000)\n",
    "\n",
    "A_k = np.array([0.8,0.75,0.5,0.4,0.85])\n",
    "P_k = np.array([9.6,12.,18.,21.6,30.0])\n",
    "phi_k = np.array([0.4,0.15,0.1,0.2,0.25])*2.0*np.pi\n",
    "A0 = 5.0\n",
    "\n",
    "def signal(A_k,P_k,phi_k,A0,x):\n",
    "    \n",
    "    y =np.zeros(np.size(x))\n",
    "\n",
    "    for i in range(np.size(A_k)):\n",
    "        y = y + A_k[i]*np.sin(x*np.pi*2.0/P_k[i]+phi_k[i])\n",
    "        \n",
    "    return y + A0\n",
    "\n",
    "noise = np.random.normal(0.,1./np.sqrt(12.),np.size(x_observe))\n",
    "\n",
    "y_observe = signal(A_k,P_k,phi_k,A0,x_observe) + noise"
   ]
  },
  {
   "cell_type": "markdown",
   "metadata": {},
   "source": [
    "Výsledná syntetická data si zobrazíme graficky"
   ]
  },
  {
   "cell_type": "code",
   "execution_count": 56,
   "metadata": {
    "collapsed": false
   },
   "outputs": [
    {
     "data": {
      "image/png": "[encoded data removed]",
      "text/plain": [
       "<matplotlib.figure.Figure at 0x119ad8c50>"
      ]
     },
     "metadata": {},
     "output_type": "display_data"
    }
   ],
   "source": [
    "plt.plot(x_observe,y_observe,'.')\n",
    "plt.show()"
   ]
  },
  {
   "cell_type": "markdown",
   "metadata": {},
   "source": [
    "Nakonec je třeba také vytvořit umělé mezery v pozorování (například v důsledku střídání dne a noci). V našem případě tedy zvolíe pravidelné mezery s periodou $P=24$ a delkou trvání $\\Delta t = P$."
   ]
  },
  {
   "cell_type": "code",
   "execution_count": 57,
   "metadata": {
    "collapsed": false
   },
   "outputs": [],
   "source": [
    "# Gaps creation with duration delta time = 24\n",
    "\n",
    "index_list = np.where(np.round(x_observe/24.0) % 2 == 0)\n",
    "x_gaps = np.delete(x_observe,index_list)\n",
    "y_gaps = np.delete(y_observe,index_list)"
   ]
  },
  {
   "cell_type": "markdown",
   "metadata": {},
   "source": [
    "a opět si výsledná data zobrazíme "
   ]
  },
  {
   "cell_type": "code",
   "execution_count": 58,
   "metadata": {
    "collapsed": false
   },
   "outputs": [
    {
     "data": {
      "text/plain": [
       "[<matplotlib.lines.Line2D at 0x11a0b4d50>]"
      ]
     },
     "execution_count": 58,
     "metadata": {},
     "output_type": "execute_result"
    },
    {
     "data": {
      "image/png": "[encoded data removed]",
      "text/plain": [
       "<matplotlib.figure.Figure at 0x11a208c10>"
      ]
     },
     "metadata": {},
     "output_type": "display_data"
    }
   ],
   "source": [
    "plt.plot(x_gaps,y_gaps,'r.')"
   ]
  },
  {
   "cell_type": "markdown",
   "metadata": {},
   "source": [
    "Nyní přistoupíme k samotnému opačnému problému a budeme se snažit z těchto dat určit optimální model, tedy sadu $3N+1$\n",
    "čísel. V praxi neznáme ani počet členů v sumě $N$, takže zvolíme $N=7$, což odpovídá situaci, kdy známe tuto informaci pouze přibližně, nikoliv však přesně. Použijeme opět knihovnu [PIKAIA](http://www.hao.ucar.edu/modeling/pikaia/pikaia.php) wrapované do jazyka PYTHON skrze knihovnu [ffnet](http://ffnet.sourceforge.net/_modules/pikaia.html). Nejdůležitějším prvkem je definice *fitnes* funkce, která určuje kriterium, podle kterého lze posoudit kvalitu modelu. PIKAIA používá maximalizaci, tedy čím lepší model, tím větši hodnota *fitnes* funkce. Všechny parametry jsou sloučeny do jediného vektoru o $3N$ složkách. *Fitnes* funkce používá ${\\chi}^2$ kriterium:\n",
    "\n",
    "$$\n",
    "f_{\\rm fit} = \\sum_{j=1}^{K}\\left(\\frac{y_{th}-y_{obs}}{\\sigma}\\right)^2\n",
    "$$"
   ]
  },
  {
   "cell_type": "code",
   "execution_count": 65,
   "metadata": {
    "collapsed": false
   },
   "outputs": [],
   "source": [
    "from ffnet.pikaia import pikaia\n",
    "\n",
    "def fitnes(x):\n",
    "    \n",
    "    # Amplitudy\n",
    "    A_k = x[:7]\n",
    "    # Periody\n",
    "    P_k = x[7:14]*100.0\n",
    "    # Faze\n",
    "    phi_k = x[14:21]\n",
    "    A0 = x[21]*100.0\n",
    "    \n",
    "    y_model = signal(A_k,P_k,phi_k,A0,x_gaps)\n",
    "    sigma = 1./np.sqrt(12.)\n",
    "    \n",
    "    fit_value = np.sum((y_model - y_gaps)**2/sigma)\n",
    "    \n",
    "    return 1./fit_value"
   ]
  },
  {
   "cell_type": "code",
   "execution_count": 66,
   "metadata": {
    "collapsed": false
   },
   "outputs": [
    {
     "name": "stderr",
     "output_type": "stream",
     "text": [
      "/Users/viktor/.virtualenvs/e-learn/lib/python2.7/site-packages/ipykernel/__main__.py:13: RuntimeWarning: divide by zero encountered in divide\n",
      "/Users/viktor/.virtualenvs/e-learn/lib/python2.7/site-packages/ipykernel/__main__.py:13: RuntimeWarning: invalid value encountered in sin\n"
     ]
    }
   ],
   "source": [
    "n = 22\n",
    "parameters = pikaia(fitnes, n, individuals=200, generations=400, digits=5, crossover=0.85, mutation=2, reproduction = 1, elitism = 1)"
   ]
  },
  {
   "cell_type": "code",
   "execution_count": 67,
   "metadata": {
    "collapsed": false
   },
   "outputs": [
    {
     "name": "stdout",
     "output_type": "stream",
     "text": [
      "P_k:  [ 20.88100052  29.29399872  19.49699974  17.99899864  90.2480011\n",
      "  12.01099968   8.03399944]\n",
      "A_k:  [ 0.5503      0.49465999  0.40776998  0.48133999  0.2121      0.84323996\n",
      "  0.53169   ]\n",
      "phi_k:  [ 0.0985      0.79962999  0.61904001  0.62456     0.04317     0.34006998\n",
      "  0.00343   ]\n",
      "A_0: 0.04946\n"
     ]
    }
   ],
   "source": [
    "print 'P_k: ',parameters[7:14]*100.0\n",
    "print 'A_k: ',parameters[:7]\n",
    "print 'phi_k: ',parameters[14:21]\n",
    "print 'A_0:',parameters[21]"
   ]
  },
  {
   "cell_type": "code",
   "execution_count": null,
   "metadata": {
    "collapsed": false
   },
   "outputs": [],
   "source": []
  },
  {
   "cell_type": "markdown",
   "metadata": {
    "collapsed": true
   },
   "source": [
    "## Určení orbitálních parametrů dvojhvězdy ##"
   ]
  },
  {
   "cell_type": "markdown",
   "metadata": {},
   "source": [
    "Dalším příkladem, na kterým lze demonstrovat schopnosti optimalizace pomocí genetického algoritmu je určení orbitálních parametrů dvojhvězdného systému z určené křivky radiálních rychlostí. Vhodným zvoleným systémem bude \n",
    "$\\eta$ Bootis, příslušné změřené radiální rychlosti jsou převzaty z článku [Bertiau (1957)](http://articles.adsabs.harvard.edu/full/1957ApJ...125..696B)."
   ]
  },
  {
   "cell_type": "code",
   "execution_count": 4,
   "metadata": {
    "collapsed": false
   },
   "outputs": [
    {
     "name": "stdout",
     "output_type": "stream",
     "text": [
      "   HJD     Phase   RV \n",
      "--------- ------- ----\n",
      " 17710.75 446.366 -0.1\n",
      " 17716.68 452.296  2.9\n",
      " 17795.58  37.023  9.0\n",
      " 17968.84 210.283 -3.8\n",
      " 17970.88 212.323 -3.5\n",
      " 17989.94 231.383 -5.2\n",
      "  17996.8 238.243 -6.8\n",
      " 18031.91 273.353 -7.2\n",
      " 18066.78 308.223 -6.7\n",
      " 18085.67 327.113 -7.7\n",
      "      ...     ...  ...\n",
      "31834.992 239.591 -3.9\n",
      "31853.038 257.637 -4.2\n",
      "31881.016 285.615 -4.6\n",
      "31924.876 329.475 -6.1\n",
      "31946.808 351.407 -5.5\n",
      "31977.728 382.327 -4.1\n",
      "31999.697 404.296 -2.3\n",
      "32032.681  437.28  1.7\n",
      "32050.672 455.271  3.0\n",
      "32072.651  477.25  8.6\n",
      " 32365.71 276.136 -4.5\n",
      "Length = 114 rows\n"
     ]
    }
   ],
   "source": [
    "from astropy.table import Table\n",
    "\n",
    "t = Table.read('radial_velocity.txt', format='ascii.commented_header')\n",
    "t.pprint()"
   ]
  },
  {
   "cell_type": "markdown",
   "metadata": {},
   "source": [
    "Z tabulky si zjistíme hodnotu radiální rychlosti $V_j^{\\text{obs}}$ pro všechny časové okamžiky $t_j$ z intervalu $ j = 0 \\dots N$"
   ]
  },
  {
   "cell_type": "code",
   "execution_count": 5,
   "metadata": {
    "collapsed": false
   },
   "outputs": [
    {
     "name": "stdout",
     "output_type": "stream",
     "text": [
      "Number of observed points 114  t_0:  14035.794   min(V): -7.7  max(V): 12.0\n"
     ]
    },
    {
     "data": {
      "image/png": "[encoded data removed]",
      "text/plain": [
       "<matplotlib.figure.Figure at 0x112dec6d0>"
      ]
     },
     "metadata": {},
     "output_type": "display_data"
    }
   ],
   "source": [
    "V_obs = np.array(t['RV'])\n",
    "time = np.array(t['HJD'])\n",
    "\n",
    "# Number of observation points\n",
    "N = np.size(time)\n",
    "t_0 = np.min(time)\n",
    "min_V = np.min(V_obs)\n",
    "max_V = np.max(V_obs)\n",
    "sigma = np.std(V_obs)\n",
    "\n",
    "plt.xlim(27000,33000)\n",
    "plt.plot(time,V_obs,'.',color='blue')\n",
    "\n",
    "print 'Number of observed points',N,' t_0: ',t_0,'  min(V):',min_V,' max(V):',max_V"
   ]
  },
  {
   "cell_type": "markdown",
   "metadata": {},
   "source": [
    "Křivka změn radiálních rychlostí hvězdy v dvojhvězdném systému je určena vztahem\n",
    "\n",
    "$$\n",
    "V(t) = V_0+K(\\cos{(\\omega+v(t)}+e\\cos{(\\omega)}),\n",
    "$$\n",
    "\n",
    "přičemž předpokládáme, radiální rychlost byla již opravena o pohyb Země kolem Slunce. $V_0$ je radiální rychlost hmotného středu binárního systému, $\\omega$ je délka perihelu, $v(t)$ je prává anomálie. $K$ amplituda rychlostí je funkcí\n",
    "\n",
    "$$\n",
    "K = \\frac{2\\pi}{P}\\frac{a \\sin i}{(1-e^2)^{1/2}},\n",
    "$$\n",
    "\n",
    "kde $P$ je orbitální perioda, $e$ excentricita, $a$ velikost hlavní poloosy a $i$ je inklinace. Velikost inklinace nejde určit z křivky radiálních rychlostí (pokud se nejedná o zákrytovou dvojvhězdu) a proto se většinou uvažuje \n",
    "$K$ jako samostatný parametr. Pravá anomálie je spjata s excentrickou anomálií\n",
    "\n",
    "$$\n",
    "\\tan \\frac{v}{2} = \\sqrt{\\frac{1+e}{1-e}}\\tan{\\frac{E}{2}}\n",
    "$$\n",
    "\n",
    "a zároveň excentrická anomálie je spjata Keplerovou rovnicí\n",
    "\n",
    "$$\n",
    "E - e\\sin{E} = \\frac{2\\pi}{P}(t-\\tau),\n",
    "$$\n",
    "\n",
    "kde $\\tau$ je doba průchodu perihelem.\n"
   ]
  },
  {
   "cell_type": "markdown",
   "metadata": {},
   "source": [
    "### Formulace problému pro GA ###\n",
    "\n",
    "Nejprve je nutné definovat vektor **u** obsahující parametry problému, kterými jsou \n",
    "\n",
    "1. $P$, orbitální perioda [juliánsky den]\n",
    "2. $\\tau$, čas průchodu periastrem [juliánský den]\n",
    "3. $\\omega$, delka perihelu [radián]\n",
    "4. $e$, excentricita []\n",
    "5. $K$, amplituda rychlosti [km.s^(-1)]\n",
    "6. $V_0$, systémová radiální rychlost [km.s^(-1)]\n",
    "\n",
    "které budeme muset ještě normaizovat, protože knihovna PIKAIA prohledává parametrický prostor v rozmezí $[0,1]$. K normalizaci využijeme fyzikálních a matematických omezení kladených na jednotlivé parametry. \n",
    "\n",
    "V případě excentricity je situace jednoduchá, podle definice velikost excentricity leží v intervalu $0 \\leq e \\leq 1$. Podobné omezení platí pro délku perihelu $0 \\leq \\omega \\leq 2\\pi$. Pohledem na graf závislosti radiální rychlosti na čase lze zhruba odhadnout, rozmezí pro periodu $200 \\leq P \\leq 800$. Čas průchodu perihelem je svázán s odhadem periody a začátkem pozorování $ t_0 \\leq \\tau \\leq t_0 + P$. Amplituda rychlosti by neměla být větší než rozdíl mezi maxiální a minimální hodnotou rychlosti určenou z napozorovaných dat, $ 0 \\leq K \\leq \\text{max}(V_j)-\\text{min}(V_j)$ a obdobně pro systémovou rychlost z dat vyplývá, že $\\text{min}(V_j) \\leq V_0 \\leq \\text{max}(V_j)$\n",
    "\n",
    "Našim úkolem bude najít takový vektor ${\\bf u}(P,\\tau,\\omega,e,K,V_0)$ který minimalizuje $\\chi^2$ pro soubor $N$ napozorovaných dat $V_j^{\\text{obs}}$ spojených s odhadem chyb $\\sigma_i$. Konkrétně\n",
    "\n",
    "$$\n",
    "\\chi^2({\\bf u})=\\frac{1}{N-6}\\sum_{j=0}^{N-1}\\left( \\frac{V_j^{\\text{obs}}-V(t_j,{\\bf u})}{\\sigma_j} \\right)^2,\n",
    "$$\n",
    "\n",
    "kde normalizační faktor $(N-6)^{-1}$ odpovídá stupňům volnosti systému. "
   ]
  },
  {
   "cell_type": "code",
   "execution_count": 25,
   "metadata": {
    "collapsed": false
   },
   "outputs": [],
   "source": [
    "from PyAstronomy import pyasl\n",
    "\n",
    "ks = pyasl.MarkleyKESolver()\n",
    "\n",
    "def Kepler_equation(mean_anomaly,e):\n",
    "    excentric_anomaly = np.empty(np.size(mean_anomaly))\n",
    "    for i in range(np.size(mean_anomaly)):\n",
    "        excentric_anomaly[i] = ks.getE(mean_anomaly[i], e)\n",
    "    return excentric_anomaly\n",
    "\n",
    "def true_anomaly(E_anomaly,e):\n",
    "    factor = np.sqrt(1+e)/np.sqrt(1-e)\n",
    "    return 2.0*np.arctan(factor*np.tan(E_anomaly/2.0))\n",
    "\n",
    "def chi_quadrat(u):\n",
    "    \n",
    "    difference_quadrat = ((V_obs - V_predicted(u,time))/sigma)**2\n",
    "    \n",
    "    return 1./(N-6)*np.sum(difference_quadrat)\n",
    "\n",
    "def fitnes(u):\n",
    "    return 1./chi_quadrat(u)\n",
    "\n",
    "def V_predicted(u,t):\n",
    "    P = 200.0+u[0]*(800.0-200.0)\n",
    "    tau = t_0+P*u[1]\n",
    "    omega = u[2]*2.0*np.pi\n",
    "    e = u[3]\n",
    "    K = u[4]*(max_V - min_V)\n",
    "    V_0 = min_V + u[5]*(max_V-min_V)\n",
    "    \n",
    "    mean_anomaly = 2.*np.pi/P*(t-tau)\n",
    "    E_anomaly = Kepler_equation(mean_anomaly,e)\n",
    "    v = true_anomaly(E_anomaly,e)\n",
    "    \n",
    "    return V_0+K*(np.cos(omega+v)+e*np.cos(omega))\n"
   ]
  },
  {
   "cell_type": "code",
   "execution_count": 26,
   "metadata": {
    "collapsed": false
   },
   "outputs": [
    {
     "name": "stdout",
     "output_type": "stream",
     "text": [
      "[ 1.2  1.3] 2\n",
      "[ 1.2  1.3]\n",
      "[ 1.40273789  1.50519265]\n",
      "5.67622787971\n"
     ]
    }
   ],
   "source": [
    "mean_an = np.array([1.2,1.3])\n",
    "print mean_an,np.size(mean_an)\n",
    "print mean_an\n",
    "e = 0.205635\n",
    "print (Kepler_equation(mean_an,e))\n",
    "print sigma"
   ]
  },
  {
   "cell_type": "code",
   "execution_count": 27,
   "metadata": {
    "collapsed": false
   },
   "outputs": [],
   "source": [
    "from ffnet.pikaia import pikaia\n",
    "\n",
    "n = 6\n",
    "parameters = pikaia(fitnes, n, individuals=100, generations=100, digits=2, crossover=0.85, mutation=2, reproduction = 1, elitism = 1)"
   ]
  },
  {
   "cell_type": "code",
   "execution_count": 34,
   "metadata": {
    "collapsed": false
   },
   "outputs": [
    {
     "name": "stdout",
     "output_type": "stream",
     "text": [
      "Best fitness value:  2.79616761789\n",
      "Perioda: 512.00 [day] Tau: 14245.71 [day] Omega: 349.20 [deg]  Excentricita: 0.19 K-rychlost: 6.89 [km.s^(-1)]  Gammma rychlost: 0.77[km.s^(-1)]\n"
     ]
    }
   ],
   "source": [
    "print 'Best fitness value: ',fitnes(parameters)\n",
    "\n",
    "def decode_u(u):\n",
    "    P = 200.0+u[0]*(800.0-200.0)\n",
    "    tau = t_0+P*u[1]\n",
    "    omega = (u[2]*2.0*np.pi)*180.0/np.pi\n",
    "    e = u[3]\n",
    "    K = u[4]*(max_V - min_V)\n",
    "    V_0 = min_V + u[5]*(max_V-min_V)\n",
    "    return (P,tau,omega,e,K,V_0)\n",
    "\n",
    "P,tau,omega,e,K,V_0 = decode_u(parameters)\n",
    "\n",
    "print (\"Perioda: %0.2f [day] Tau: %0.2f [day] Omega: %0.2f [deg]  Excentricita: %0.2f\\\n",
    " K-rychlost: %0.2f [km/s]  Gammma rychlost: %0.2f[km/s]\") % (P,tau,omega,e,K,V_0)\n"
   ]
  },
  {
   "cell_type": "code",
   "execution_count": 49,
   "metadata": {
    "collapsed": false
   },
   "outputs": [
    {
     "data": {
      "image/png": "[encoded data removed]",
      "text/plain": [
       "<matplotlib.figure.Figure at 0x10fbe3c50>"
      ]
     },
     "metadata": {},
     "output_type": "display_data"
    }
   ],
   "source": [
    "from ipywidgets import interact\n",
    "\n",
    "@interact(P=(450,550), tau = (14250,14350), omega=(np.pi, 2.0*np.pi), e = (0.15,0.35), K =(5,9), V_0 =(0.6,1.1))\n",
    "def plot_radial_velocity(P = P, tau = tau, omega = omega, e = e, K = K, V_0 = V_0):\n",
    "\n",
    "    time_pred = time\n",
    "    \n",
    "    mean_anomaly = 2.*np.pi/P*(time_pred-tau)\n",
    "    E_anomaly = Kepler_equation(mean_anomaly,e)\n",
    "    v = true_anomaly(E_anomaly,e)\n",
    "    \n",
    "    # Theoretical profile\n",
    "    y_pred = V_0+K*(np.cos(omega+v)+e*np.cos(omega))\n",
    "    x_pred = time_calcul/P - np.fix(time_calcul/P)\n",
    "    \n",
    "    # Observed profile\n",
    "    y = V_obs\n",
    "    x = time/P - np.fix(time/P)\n",
    "    \n",
    "    plt.xlabel('Phase')\n",
    "    plt.ylabel('V_r')\n",
    "    plt.plot(x,y,'x',color = 'red')\n",
    "    plt.plot(x_pred,y_pred,'.',color='blue')\n",
    "    plt.plot()\n",
    "    plt.show()\n",
    "    return\n"
   ]
  },
  {
   "cell_type": "markdown",
   "metadata": {
    "collapsed": false
   },
   "source": [
    "Náš výsledek srovnáme s parametry publikovanými v článku [Bertiau (1957)](http://articles.adsabs.harvard.edu/full/1957ApJ...125..696B)\n",
    "\n",
    "$ P = 493.173 \\pm 0.05 $ [days]\n",
    "\n",
    "$ T = 2428136.19 \\pm 2.4$ [days] \n",
    "\n",
    "$ \\omega = 326.33$ [deg] \n",
    "\n",
    "$ e = 0.2575 \\pm 0.009 $ \n",
    "\n",
    "$ K = 8.42 \\pm 0.08 $ [km/s]\n",
    "\n",
    "$ \\gamma = 1.01 \\pm $ [km/s]"
   ]
  },
  {
   "cell_type": "code",
   "execution_count": null,
   "metadata": {
    "collapsed": false
   },
   "outputs": [],
   "source": []
  },
  {
   "cell_type": "code",
   "execution_count": null,
   "metadata": {
    "collapsed": true
   },
   "outputs": [],
   "source": []
  }
 ],
 "metadata": {
  "kernelspec": {
   "display_name": "Python 2",
   "language": "python",
   "name": "python2"
  },
  "language_info": {
   "codemirror_mode": {
    "name": "ipython",
    "version": 2
   },
   "file_extension": ".py",
   "mimetype": "text/x-python",
   "name": "python",
   "nbconvert_exporter": "python",
   "pygments_lexer": "ipython2",
   "version": "2.7.10"
  }
 },
 "nbformat": 4,
 "nbformat_minor": 0
}
