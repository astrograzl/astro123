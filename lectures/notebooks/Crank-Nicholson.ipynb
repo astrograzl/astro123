{
 "cells": [
  {
   "cell_type": "code",
   "execution_count": 40,
   "metadata": {
    "collapsed": true
   },
   "outputs": [],
   "source": [
    "%matplotlib inline"
   ]
  },
  {
   "cell_type": "markdown",
   "metadata": {},
   "source": [
    "**Problém 1**: Rovnice advekce-difůze \n",
    "\n",
    "$$\n",
    "\\frac{\\partial u}{\\partial t} + v \\frac{\\partial u}{\\partial x} = D\\frac{\\partial^2 u}{\\partial t^2}\n",
    "$$\n",
    "\n",
    "\n",
    "najděte numerické řešení v intervalu $x = [1, 2]$ a s počatečními podmínkami $u = 1$ pro $x \\leq 1.5$ a $u = 0$ pro $x > 1.5$. Vyzkoušejte různé hodnoty konstantni rychlosti advekce $v$ a koeficientu difůze."
   ]
  },
  {
   "cell_type": "code",
   "execution_count": 41,
   "metadata": {
    "collapsed": false
   },
   "outputs": [],
   "source": [
    "import numpy as np\n",
    "import scipy.linalg as sp\n",
    "import matplotlib.pylab as plt\n",
    "from ipywidgets import interact"
   ]
  },
  {
   "cell_type": "markdown",
   "metadata": {},
   "source": []
  },
  {
   "cell_type": "code",
   "execution_count": 42,
   "metadata": {
    "collapsed": true
   },
   "outputs": [],
   "source": [
    "def gaussian(x, mu, sig):\n",
    "    return np.exp(-np.power(x - mu, 2.))/(2.0 * (sig**2.0))"
   ]
  },
  {
   "cell_type": "code",
   "execution_count": 43,
   "metadata": {
    "collapsed": true
   },
   "outputs": [],
   "source": [
    "number_of_points = 10\n",
    "u = np.empty(number_of_points+2)\n",
    "x = np.linspace(1,2,number_of_points+2)\n",
    "#u = np.ones_like(x); u[x > 1.5] = 0\n",
    "u = gaussian(x,1.5,1.0)\n",
    "\n",
    "dx = x[1]-x[0]\n",
    "D = 0.05\n",
    "v = -0.04\n",
    "dt = 0.01\n",
    "t_end = 0.3\n",
    "\n",
    "def plot_result(u,x):\n",
    "    \n",
    "    ## Plotting of the result      \n",
    "    plt.title(\"Rovnice advekce-difuze\")\n",
    "    plt.xlabel(\"x\")\n",
    "    plt.ylabel(\"u\")\n",
    "    plt.ylim((0.5,2.5))\n",
    "    plt.xlim((0,2))\n",
    "    plt.plot(x, u)\n",
    "    plt.grid(True)\n",
    "\n"
   ]
  },
  {
   "cell_type": "code",
   "execution_count": 44,
   "metadata": {
    "collapsed": false
   },
   "outputs": [
    {
     "name": "stdout",
     "output_type": "stream",
     "text": [
      "[ 1.  1.  1.  1.  1.  1.  1.  1.  1.  1.  1.  1.  1.  1.  1.  1.  1.  1.\n",
      "  1.  1.  1.  1.  1.  1.  1.  2.  2.  2.  2.  2.  2.  2.  2.  2.  2.  2.\n",
      "  2.  2.  2.  2.  2.  2.  2.  2.  2.  2.  2.  2.  2.  2.  1.  1.  1.  1.\n",
      "  1.  1.  1.  1.  1.  1.  1.  1.  1.  1.  1.  1.  1.  1.  1.  1.  1.  1.\n",
      "  1.  1.  1.  1.  1.  1.  1.  1.  1.  1.  1.  1.  1.  1.  1.  1.  1.  1.\n",
      "  1.  1.  1.  1.  1.  1.  1.  1.  1.  1.]\n"
     ]
    },
    {
     "data": {
      "image/png": "[encoded data removed]",
      "text/plain": [
       "<matplotlib.figure.Figure at 0x7fab64f33f10>"
      ]
     },
     "metadata": {},
     "output_type": "display_data"
    }
   ],
   "source": [
    "\n",
    "    \n",
    "number_of_points = 98\n",
    "u = np.empty(number_of_points+2)\n",
    "x = np.linspace(0,2.0,number_of_points+2)\n",
    "#u = np.ones_like(x); u[x > 1.5] = 0\n",
    "u = np.ones_like(x)\n",
    "ubound = np.where(x >= 0.5)\n",
    "lbound = np.where(x <= 1)\n",
    "\n",
    "u[np.intersect1d(lbound,ubound)] = 2.0\n",
    "\n",
    "print u\n",
    "\n",
    "dx = x[1]-x[0]\n",
    "D = 0.3\n",
    "v = 0.0\n",
    "dt = 0.005\n",
    "t_end = 0.08\n",
    "\n",
    "dx = x[1]-x[0]\n",
    "D = 0.05\n",
    "v = -0.04\n",
    "dt = 0.01\n",
    "\n",
    "\n",
    "while cas < t_end:\n",
    "    right_side[0:number_of_points] = u[0:number_of_points]*(sigma+rho)+\\\n",
    "    u[1:number_of_points+1]*(1.0-2.0*sigma)+u[2:number_of_points+2]*(sigma-rho)\n",
    "\n",
    "\n",
    "    # boundary condition \n",
    "    right_side[0] = right_side[0]+(sigma+rho)*u[0]\n",
    "    right_side[number_of_points-1] = right_side[number_of_points-1]+u[number_of_points+1]*(sigma-rho)\n",
    "\n",
    "        \n",
    "    solution = sp.solve(matrix,right_side)\n",
    "    u[1:number_of_points+1]=solution\n",
    "    cas = cas + dt\n",
    "        \n",
    "plot_result(u,x)"
   ]
  },
  {
   "cell_type": "code",
   "execution_count": null,
   "metadata": {
    "collapsed": false
   },
   "outputs": [],
   "source": []
  },
  {
   "cell_type": "code",
   "execution_count": null,
   "metadata": {
    "collapsed": false
   },
   "outputs": [],
   "source": []
  },
  {
   "cell_type": "code",
   "execution_count": null,
   "metadata": {
    "collapsed": false
   },
   "outputs": [],
   "source": []
  },
  {
   "cell_type": "code",
   "execution_count": null,
   "metadata": {
    "collapsed": false
   },
   "outputs": [],
   "source": []
  },
  {
   "cell_type": "code",
   "execution_count": null,
   "metadata": {
    "collapsed": true
   },
   "outputs": [],
   "source": []
  },
  {
   "cell_type": "code",
   "execution_count": null,
   "metadata": {
    "collapsed": true
   },
   "outputs": [],
   "source": []
  }
 ],
 "metadata": {
  "kernelspec": {
   "display_name": "Python 2",
   "language": "python",
   "name": "python2"
  },
  "language_info": {
   "codemirror_mode": {
    "name": "ipython",
    "version": 2
   },
   "file_extension": ".py",
   "mimetype": "text/x-python",
   "name": "python",
   "nbconvert_exporter": "python",
   "pygments_lexer": "ipython2",
   "version": "2.7.9"
  }
 },
 "nbformat": 4,
 "nbformat_minor": 0
}
